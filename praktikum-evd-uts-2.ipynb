{
 "cells": [
  {
   "cell_type": "markdown",
   "id": "d188859d",
   "metadata": {
    "_cell_guid": "ead0930b-52bb-470c-af53-9535a057b8e0",
    "_uuid": "019f6846-78bb-4251-9f38-8e7b1fbbfa05",
    "papermill": {
     "duration": 0.007185,
     "end_time": "2023-04-28T01:51:38.126994",
     "exception": false,
     "start_time": "2023-04-28T01:51:38.119809",
     "status": "completed"
    },
    "tags": []
   },
   "source": [
    "## Laprak UTS EVD 2023 Kelas A\n",
    "\n",
    "### **Nomor 1**   \n",
    "Masih ingatkah dengan data instagram yang lalu, Dynamics of Instagram users dataset? Pada bagian ini, akan kita dalami lebih lanjut untuk mendapatkan insight lebih banyak dari para pengguna instagram. Sebagai pengingat, data tersebut diambil dari 464 pengguna instagram, yang terdiri dari enam variabel. Keenam variabel tersebut adalah:  \n",
    "```\n",
    "post\t\t: jumlah post\n",
    "follower\t: jumlah follower\n",
    "following\t: jumlah following\n",
    "like\t\t: jumlah like untuk beberapa postingan terakhir\n",
    "self \t\t: tingkat kepercayaan diri pengguna (variabel ordinal 0 – 9)\n",
    "gender\t\t: jenis kelamin (f: perempuan, m: laki-laki)\n",
    "```   \n",
    "Pada tugas sebelumnya, kita telah menyajikan, meringkas, serta melakukan beberapa transformasi dan standardisasi pada data pengguna instagram. Setelah mendapat beberapa insight dan pemahaman sekilas mengenai data, barulah kita beranjak ke tahap berikutnya: uji hipotesis.  \n",
    "Berdasarkan informasi terkini, diketahui bahwa data pengguna instagram yang kita miliki merupakan data sensus (seluruh populasi) dari Kota X.  Mengacu pada informasi tersebut, lakukanlah hal-hal berikut:\n",
    "1. Buatlah ringkasan 5 angka, mean, serta standar deviasi dari variabel follower. Sajikan hasilnya ke dalam tabel. Ringkasan parameter tersebutlah yang akan kita gunakan sebagai acuan untuk uji hipotesis ke depannya.    \n",
    "    Standar deviasi di sini merupakan standar deviasi populasi, sedangkan fungsi sd menghitung standar deviasi sampel. Hitung secara manual, atau gunakan koreksi pada hasil fungsi sd untuk menghitung standar deviasi populasi.\n",
    "1. Selanjutnya, kita lakukan survei terhadap penduduk Kota X. Kita ambil sampel sebanyak 50 orang secara acak tanpa pengembalian.  Lakukan hal tersebut di R, dengan menggunakan NIF sebagai random seed – set.seed(NIF) – sebelum melakukan pengambilan sampel.\n",
    "1. Lakukanlah bagian (a) kembali (variabel follower) untuk sampel yang sudah didapatkan di bagian (b). Kira-kira, apakah statistik dari sampel tersebut dapat digunakan sebagai estimasi dari parameter populasi? Jelaskan\n",
    "1. Menggunakan data sampel, ujilah pernyataan μ = μ0; dengan μ0 adalah mean populasi variabel follower. Jika asumsi tidak terpenuhi, maka anggap terpenuhi dan lanjutkan ke proses berikutnya.\n",
    "1. Berdasarkan langkah-langkah yang telah dilakukan di atas, hal menarik apa yang dapat anda simpulkan? Elaborasikan dalam satu paragraf singkat."
   ]
  },
  {
   "cell_type": "code",
   "execution_count": 1,
   "id": "2334c929",
   "metadata": {
    "_cell_guid": "f42be478-58c1-40c2-b272-8fb592d5243d",
    "_uuid": "2170aba2-26d1-4031-9bec-daaa80a4722f",
    "collapsed": false,
    "execution": {
     "iopub.execute_input": "2023-04-28T01:51:38.143260Z",
     "iopub.status.busy": "2023-04-28T01:51:38.140581Z",
     "iopub.status.idle": "2023-04-28T01:51:42.161892Z",
     "shell.execute_reply": "2023-04-28T01:51:42.160076Z"
    },
    "jupyter": {
     "outputs_hidden": false
    },
    "papermill": {
     "duration": 4.031594,
     "end_time": "2023-04-28T01:51:42.164399",
     "exception": false,
     "start_time": "2023-04-28T01:51:38.132805",
     "status": "completed"
    },
    "tags": []
   },
   "outputs": [
    {
     "name": "stderr",
     "output_type": "stream",
     "text": [
      "── \u001b[1mAttaching packages\u001b[22m ─────────────────────────────────────── tidyverse 1.3.2 ──\n",
      "\u001b[32m✔\u001b[39m \u001b[34mggplot2\u001b[39m 3.4.0      \u001b[32m✔\u001b[39m \u001b[34mpurrr  \u001b[39m 1.0.1 \n",
      "\u001b[32m✔\u001b[39m \u001b[34mtibble \u001b[39m 3.1.8      \u001b[32m✔\u001b[39m \u001b[34mdplyr  \u001b[39m 1.0.10\n",
      "\u001b[32m✔\u001b[39m \u001b[34mtidyr  \u001b[39m 1.2.1      \u001b[32m✔\u001b[39m \u001b[34mstringr\u001b[39m 1.5.0 \n",
      "\u001b[32m✔\u001b[39m \u001b[34mreadr  \u001b[39m 2.1.3      \u001b[32m✔\u001b[39m \u001b[34mforcats\u001b[39m 0.5.2 \n",
      "── \u001b[1mConflicts\u001b[22m ────────────────────────────────────────── tidyverse_conflicts() ──\n",
      "\u001b[31m✖\u001b[39m \u001b[34mdplyr\u001b[39m::\u001b[32mfilter()\u001b[39m masks \u001b[34mstats\u001b[39m::filter()\n",
      "\u001b[31m✖\u001b[39m \u001b[34mdplyr\u001b[39m::\u001b[32mlag()\u001b[39m    masks \u001b[34mstats\u001b[39m::lag()\n",
      "\n",
      "Attaching package: ‘plotly’\n",
      "\n",
      "\n",
      "The following object is masked from ‘package:ggplot2’:\n",
      "\n",
      "    last_plot\n",
      "\n",
      "\n",
      "The following object is masked from ‘package:stats’:\n",
      "\n",
      "    filter\n",
      "\n",
      "\n",
      "The following object is masked from ‘package:graphics’:\n",
      "\n",
      "    layout\n",
      "\n",
      "\n",
      "The following object is masked from ‘package:httr’:\n",
      "\n",
      "    config\n",
      "\n",
      "\n",
      "Loading required package: lattice\n",
      "\n",
      "\n",
      "Attaching package: ‘BSDA’\n",
      "\n",
      "\n",
      "The following object is masked from ‘package:datasets’:\n",
      "\n",
      "    Orange\n",
      "\n",
      "\n",
      "\n",
      "Attaching package: ‘MASS’\n",
      "\n",
      "\n",
      "The following object is masked from ‘package:plotly’:\n",
      "\n",
      "    select\n",
      "\n",
      "\n",
      "The following object is masked from ‘package:dplyr’:\n",
      "\n",
      "    select\n",
      "\n",
      "\n",
      "Registered S3 method overwritten by 'quantmod':\n",
      "  method            from\n",
      "  as.zoo.data.frame zoo \n",
      "\n"
     ]
    }
   ],
   "source": [
    "library(tidyverse)\n",
    "library(plotly)\n",
    "library(BSDA)\n",
    "library(MASS)\n",
    "library(AID)"
   ]
  },
  {
   "cell_type": "code",
   "execution_count": 2,
   "id": "174f320e",
   "metadata": {
    "_cell_guid": "2978b653-bb66-4f84-ae6e-5ae339198fab",
    "_uuid": "53d8c8f5-5b6a-4c6d-88c0-d1f2bcdb19e0",
    "collapsed": false,
    "execution": {
     "iopub.execute_input": "2023-04-28T01:51:42.209802Z",
     "iopub.status.busy": "2023-04-28T01:51:42.180191Z",
     "iopub.status.idle": "2023-04-28T01:51:42.233755Z",
     "shell.execute_reply": "2023-04-28T01:51:42.231944Z"
    },
    "jupyter": {
     "outputs_hidden": false
    },
    "papermill": {
     "duration": 0.065995,
     "end_time": "2023-04-28T01:51:42.237165",
     "exception": false,
     "start_time": "2023-04-28T01:51:42.171170",
     "status": "completed"
    },
    "tags": []
   },
   "outputs": [],
   "source": [
    "# read data, drop index columns [,-1]\n",
    "df = read.csv(\"/kaggle/input/praktikum-evd/tugas1_evd.csv\")[,-1]\n",
    "df1 = df$follower"
   ]
  },
  {
   "cell_type": "markdown",
   "id": "af0c6e78",
   "metadata": {
    "_cell_guid": "c8a39e1e-b7c0-45f0-8b2f-6dfb75325cf5",
    "_uuid": "e9b373a8-9559-44bf-be98-fa2343b772bc",
    "papermill": {
     "duration": 0.006807,
     "end_time": "2023-04-28T01:51:42.250649",
     "exception": false,
     "start_time": "2023-04-28T01:51:42.243842",
     "status": "completed"
    },
    "tags": []
   },
   "source": [
    "### 1A. Ringkasan parameter populasi\n",
    "1. ringkasan lima angka dan mean -> `summary()`\n",
    "1. standar deviasi populasi -> `sd()` koreksi dengan mengganti pembagi n-1 ke n"
   ]
  },
  {
   "cell_type": "code",
   "execution_count": 3,
   "id": "d29e577c",
   "metadata": {
    "_cell_guid": "f90d3b94-d128-4d4d-b432-5921eb67dcd9",
    "_uuid": "2bcb6785-e81a-4ef9-b8cf-3a413d7746e2",
    "collapsed": false,
    "execution": {
     "iopub.execute_input": "2023-04-28T01:51:42.267787Z",
     "iopub.status.busy": "2023-04-28T01:51:42.266192Z",
     "iopub.status.idle": "2023-04-28T01:51:42.300402Z",
     "shell.execute_reply": "2023-04-28T01:51:42.298697Z"
    },
    "jupyter": {
     "outputs_hidden": false
    },
    "papermill": {
     "duration": 0.045036,
     "end_time": "2023-04-28T01:51:42.302639",
     "exception": false,
     "start_time": "2023-04-28T01:51:42.257603",
     "status": "completed"
    },
    "tags": []
   },
   "outputs": [
    {
     "data": {
      "text/plain": [
       "   Min. 1st Qu.  Median    Mean 3rd Qu.    Max. \n",
       "   11.0   499.8  1148.0  2029.8  2874.2  7735.0 "
      ]
     },
     "metadata": {},
     "output_type": "display_data"
    },
    {
     "data": {
      "text/html": [
       "2043.57510898219"
      ],
      "text/latex": [
       "2043.57510898219"
      ],
      "text/markdown": [
       "2043.57510898219"
      ],
      "text/plain": [
       "[1] 2043.575"
      ]
     },
     "metadata": {},
     "output_type": "display_data"
    }
   ],
   "source": [
    "# dalam laporan, masukkan nilai-nilainya ke dalam tabel\n",
    "en = length(df1)\n",
    "mu0 = mean(df1)\n",
    "\n",
    "summary(df1)\n",
    "# koreksi untuk populasi\n",
    "((en-1)/en)^0.5*sd(df1)"
   ]
  },
  {
   "cell_type": "markdown",
   "id": "c3b007a0",
   "metadata": {
    "_cell_guid": "ab3250a3-30ee-4208-9963-816918b5a024",
    "_uuid": "f6b02fb1-3c25-40b0-9023-e64c9e5edeeb",
    "papermill": {
     "duration": 0.007798,
     "end_time": "2023-04-28T01:51:42.317239",
     "exception": false,
     "start_time": "2023-04-28T01:51:42.309441",
     "status": "completed"
    },
    "tags": []
   },
   "source": [
    "### 1B. Pengambilan sampel tanpa pengembalian"
   ]
  },
  {
   "cell_type": "code",
   "execution_count": 4,
   "id": "f479dfe7",
   "metadata": {
    "_cell_guid": "36c7df71-206b-4416-9104-596e5559cd16",
    "_uuid": "5cf92b12-057f-41e3-911f-1e894f6fe625",
    "collapsed": false,
    "execution": {
     "iopub.execute_input": "2023-04-28T01:51:42.334972Z",
     "iopub.status.busy": "2023-04-28T01:51:42.333405Z",
     "iopub.status.idle": "2023-04-28T01:51:42.711873Z",
     "shell.execute_reply": "2023-04-28T01:51:42.709903Z"
    },
    "jupyter": {
     "outputs_hidden": false
    },
    "papermill": {
     "duration": 0.389593,
     "end_time": "2023-04-28T01:51:42.714254",
     "exception": false,
     "start_time": "2023-04-28T01:51:42.324661",
     "status": "completed"
    },
    "tags": []
   },
   "outputs": [
    {
     "data": {
      "image/png": "[encoded data removed]"
     },
     "metadata": {
      "image/png": {
       "height": 420,
       "width": 420
      }
     },
     "output_type": "display_data"
    },
    {
     "data": {
      "image/png": "[encoded data removed]"
     },
     "metadata": {
      "image/png": {
       "height": 420,
       "width": 420
      }
     },
     "output_type": "display_data"
    }
   ],
   "source": [
    "# isi dengan NIF masing-masing\n",
    "set.seed(20462)\n",
    "df1s = sample(df1, size=50, replace=F)\n",
    "\n",
    "# kalau gabut, menjurai atas\n",
    "hist(df1s); boxplot(df1s)"
   ]
  },
  {
   "cell_type": "markdown",
   "id": "00a31b7a",
   "metadata": {
    "_cell_guid": "aa3f25bc-eb89-46eb-aeee-afdedfd43375",
    "_uuid": "7a5691ee-0a31-4806-a602-6711d1707136",
    "papermill": {
     "duration": 0.008496,
     "end_time": "2023-04-28T01:51:42.730638",
     "exception": false,
     "start_time": "2023-04-28T01:51:42.722142",
     "status": "completed"
    },
    "tags": []
   },
   "source": [
    "### 1C. Ringkasan statistik populasi\n",
    "1. baca bagian 1A\n",
    "1. untuk seed=20462, kira-kira (subjektif, berdasarkan persentase error)\n",
    "    1. Q1 dan max dapat mewakili populasi\n",
    "    1. median, mean, Q3 cukup mewakili populasi\n",
    "    1. min tidak dapat mewakili populasi"
   ]
  },
  {
   "cell_type": "code",
   "execution_count": null,
   "id": "6d980e51",
   "metadata": {
    "_cell_guid": "59aee553-3d32-4dce-a270-245711546ebe",
    "_uuid": "47f66bce-90fb-41e9-9e1b-d0b1c26c4f9e",
    "collapsed": false,
    "jupyter": {
     "outputs_hidden": false
    },
    "papermill": {
     "duration": 0.007497,
     "end_time": "2023-04-28T01:51:42.745719",
     "exception": false,
     "start_time": "2023-04-28T01:51:42.738222",
     "status": "completed"
    },
    "tags": []
   },
   "outputs": [],
   "source": []
  },
  {
   "cell_type": "code",
   "execution_count": 5,
   "id": "2871dcbc",
   "metadata": {
    "_cell_guid": "25fe7a00-7126-45c0-a087-9a16769118d7",
    "_uuid": "7e383de7-543a-4374-af76-673f0e7d53cc",
    "collapsed": false,
    "execution": {
     "iopub.execute_input": "2023-04-28T01:51:42.764272Z",
     "iopub.status.busy": "2023-04-28T01:51:42.762657Z",
     "iopub.status.idle": "2023-04-28T01:51:42.789226Z",
     "shell.execute_reply": "2023-04-28T01:51:42.787497Z"
    },
    "jupyter": {
     "outputs_hidden": false
    },
    "papermill": {
     "duration": 0.038227,
     "end_time": "2023-04-28T01:51:42.791561",
     "exception": false,
     "start_time": "2023-04-28T01:51:42.753334",
     "status": "completed"
    },
    "tags": []
   },
   "outputs": [
    {
     "data": {
      "text/plain": [
       "   Min. 1st Qu.  Median    Mean 3rd Qu.    Max. \n",
       "   53.0   443.2  1028.0  1689.1  2334.5  7486.0 "
      ]
     },
     "metadata": {},
     "output_type": "display_data"
    },
    {
     "data": {
      "text/html": [
       "1771.86022206341"
      ],
      "text/latex": [
       "1771.86022206341"
      ],
      "text/markdown": [
       "1771.86022206341"
      ],
      "text/plain": [
       "[1] 1771.86"
      ]
     },
     "metadata": {},
     "output_type": "display_data"
    }
   ],
   "source": [
    "# dalam laporan, masukkan nilai-nilainya ke dalam tabel\n",
    "en = length(df1s)\n",
    "mu1s = mean(df1s)\n",
    "\n",
    "summary(df1s)\n",
    "# sudah sampel, tak perlu koreksi\n",
    "sd(df1s)"
   ]
  },
  {
   "cell_type": "code",
   "execution_count": 6,
   "id": "68b16d67",
   "metadata": {
    "_cell_guid": "9a70159e-4bfc-4c3a-8ec7-f99a708e4e4f",
    "_uuid": "5d6ca947-a6d0-4f17-8d91-b2d2e55c6a8d",
    "collapsed": false,
    "execution": {
     "iopub.execute_input": "2023-04-28T01:51:42.811088Z",
     "iopub.status.busy": "2023-04-28T01:51:42.809585Z",
     "iopub.status.idle": "2023-04-28T01:51:42.827096Z",
     "shell.execute_reply": "2023-04-28T01:51:42.825450Z"
    },
    "jupyter": {
     "outputs_hidden": false
    },
    "papermill": {
     "duration": 0.029713,
     "end_time": "2023-04-28T01:51:42.829476",
     "exception": false,
     "start_time": "2023-04-28T01:51:42.799763",
     "status": "completed"
    },
    "tags": []
   },
   "outputs": [
    {
     "data": {
      "text/plain": [
       "   Min. 1st Qu.  Median    Mean 3rd Qu.    Max. \n",
       "381.818 -11.306 -10.453 -16.787 -18.779  -3.219 "
      ]
     },
     "metadata": {},
     "output_type": "display_data"
    }
   ],
   "source": [
    "# persentase error, bandingkan pop vs sampel\n",
    "# apakah 16% besar? subjektif.\n",
    "(summary(df1s)-summary(df1))/summary(df1)*100"
   ]
  },
  {
   "cell_type": "code",
   "execution_count": null,
   "id": "12771ca9",
   "metadata": {
    "_cell_guid": "5eee516f-02a6-42f2-a0a7-dc38d534c974",
    "_uuid": "08714155-fc52-4dfd-9ba5-9d256d03156c",
    "collapsed": false,
    "jupyter": {
     "outputs_hidden": false
    },
    "papermill": {
     "duration": 0.008363,
     "end_time": "2023-04-28T01:51:42.846445",
     "exception": false,
     "start_time": "2023-04-28T01:51:42.838082",
     "status": "completed"
    },
    "tags": []
   },
   "outputs": [],
   "source": []
  },
  {
   "cell_type": "markdown",
   "id": "f1998211",
   "metadata": {
    "_cell_guid": "e96fde03-e0b3-4e39-b55f-7614d1042540",
    "_uuid": "4645fe76-4963-4e47-a94c-d49d102f3cff",
    "papermill": {
     "duration": 0.007938,
     "end_time": "2023-04-28T01:51:42.862662",
     "exception": false,
     "start_time": "2023-04-28T01:51:42.854724",
     "status": "completed"
    },
    "tags": []
   },
   "source": [
    "### 1D. Uji hipotesis mu = mu0\n",
    "1. Uji asumsi normalitas\n",
    "1. Uji hipotesis (tergantung random-seed)\n",
    "1. Bisa Z test atau t test (n > 30); keduanya cukup mirip, menghasilkan simpulan sama\n",
    "    1. Dengan menganggap data memenuhi asumsi normalitas, dapat disimpulkan bahwa mean follower sampel tidak berbeda dengan mu0\n",
    "    1. (Ekstra) Dengan melakukan transformasi, dapat disimpulkan bahwa mean follower sampel tidak berbeda dengan mu0\n",
    "\n",
    "\n",
    "### 1E. Elaborasi\n",
    "Mean dari 10% sampel tanpa pengembalian dari populasi tidak berdistribusi normal tidaklah berbeda secara signifikan dari mean populasi. Itu artinya, dalam kasus ini, mean dari 10% sampel tanpa pengembalian dapat digunakan sebagai estimasi dari mean populasi. Hal ini cukup memudahkan penelitian karena kita perlu melakukan sensus seluruh populasi, cukup mengambil sebagian sampel saja (dalam kasus ini, 10% cukup).\n",
    "\n",
    "Begitu juga untuk versi \"benar\"-nya, dengan transformasi sebelum uji hipotesis. Didapatkan kesimpulan yang sama, 10% sampel cukup untuk mengestimasi mean dari populasi. (Lebih baik, malah)"
   ]
  },
  {
   "cell_type": "code",
   "execution_count": 7,
   "id": "2262c8a1",
   "metadata": {
    "_cell_guid": "1d0cf0fe-ab68-4840-95c3-6d9bc00fca13",
    "_uuid": "a62c8bc8-6dff-4127-8bac-47493a0019a2",
    "collapsed": false,
    "execution": {
     "iopub.execute_input": "2023-04-28T01:51:42.882282Z",
     "iopub.status.busy": "2023-04-28T01:51:42.880731Z",
     "iopub.status.idle": "2023-04-28T01:51:42.986259Z",
     "shell.execute_reply": "2023-04-28T01:51:42.984481Z"
    },
    "jupyter": {
     "outputs_hidden": false
    },
    "papermill": {
     "duration": 0.11785,
     "end_time": "2023-04-28T01:51:42.988611",
     "exception": false,
     "start_time": "2023-04-28T01:51:42.870761",
     "status": "completed"
    },
    "tags": []
   },
   "outputs": [
    {
     "data": {
      "text/plain": [
       "\n",
       "\tOne Sample t-test\n",
       "\n",
       "data:  df1s\n",
       "t = -1.3599, df = 49, p-value = 0.1801\n",
       "alternative hypothesis: true mean is not equal to 2029.832\n",
       "95 percent confidence interval:\n",
       " 1185.523 2192.637\n",
       "sample estimates:\n",
       "mean of x \n",
       "  1689.08 \n"
      ]
     },
     "metadata": {},
     "output_type": "display_data"
    },
    {
     "data": {
      "text/plain": [
       "\n",
       "\tOne-sample z-Test\n",
       "\n",
       "data:  df1s\n",
       "z = -1.3599, p-value = 0.1739\n",
       "alternative hypothesis: true mean is not equal to 2029.832\n",
       "95 percent confidence interval:\n",
       " 1197.954 2180.206\n",
       "sample estimates:\n",
       "mean of x \n",
       "  1689.08 \n"
      ]
     },
     "metadata": {},
     "output_type": "display_data"
    },
    {
     "data": {
      "text/plain": [
       "\n",
       "\tOne Sample t-test\n",
       "\n",
       "data:  log(df1s)\n",
       "t = -0.97101, df = 49, p-value = 0.3363\n",
       "alternative hypothesis: true mean is not equal to 7.04901\n",
       "95 percent confidence interval:\n",
       " 6.583249 7.211302\n",
       "sample estimates:\n",
       "mean of x \n",
       " 6.897275 \n"
      ]
     },
     "metadata": {},
     "output_type": "display_data"
    },
    {
     "data": {
      "text/html": [
       "989.574661624937"
      ],
      "text/latex": [
       "989.574661624937"
      ],
      "text/markdown": [
       "989.574661624937"
      ],
      "text/plain": [
       "[1] 989.5747"
      ]
     },
     "metadata": {},
     "output_type": "display_data"
    },
    {
     "data": {
      "text/html": [
       "1151.71827605391"
      ],
      "text/latex": [
       "1151.71827605391"
      ],
      "text/markdown": [
       "1151.71827605391"
      ],
      "text/plain": [
       "[1] 1151.718"
      ]
     },
     "metadata": {},
     "output_type": "display_data"
    },
    {
     "data": {
      "image/png": "[encoded data removed]"
     },
     "metadata": {
      "image/png": {
       "height": 420,
       "width": 420
      }
     },
     "output_type": "display_data"
    }
   ],
   "source": [
    "# tidak normal, juraian atas\n",
    " boxplot(df1s)\n",
    "\n",
    "# abaikan normalitas (soal)\n",
    "t.test(df1s, alternative=\"two\", mu=mu0)\n",
    "z.test(df1s, alternative=\"two\", mu=mu0, sigma.x=sd(df1s))\n",
    "\n",
    "\n",
    "# gabut? ekstra\n",
    "# lakukan trf, log is the most used one tho\n",
    "t.test(log(df1s), alternative=\"two\", mu=mean(log(df1)))\n",
    "\n",
    "exp(mean(log(df1s))); exp(mean(log(df1)))"
   ]
  },
  {
   "cell_type": "markdown",
   "id": "3a1538d6",
   "metadata": {
    "_cell_guid": "05d0ce3c-5d32-4256-a253-5ec279f203c8",
    "_uuid": "d5a18e19-3617-48e9-8d51-be2b13d84e7c",
    "papermill": {
     "duration": 0.009096,
     "end_time": "2023-04-28T01:51:43.006714",
     "exception": false,
     "start_time": "2023-04-28T01:51:42.997618",
     "status": "completed"
    },
    "tags": []
   },
   "source": [
    "### **Nomor 2**  \n",
    "Masihkah waras terus menerus berkutat dengan data instagram? Ya, masih menggunakan data yang sama, kali ini, kita tertarik dengan banyaknya klaim pada tugas sebelumnya, bahwa variabel follower berkorelasi secara positif dengan variabel like. Kita akan coba buktikan klaim tersebut menggunakan pendekatan yang berbeda. Kita berfokus pada pengguna yang memiliki banyak follower kurang dari 200 orang sebagai sampel. Berdasarkan sampel tersebut, akan kita buktikan klaim bahwa mean like sampel kurang dari mean like populasi.  (Hint: Gunakan klaim yang ingin dibuktikan sebagai hipotesis alternatif)\n",
    "\n",
    "1. Pertama-tama, tentu saja mencari parameter populasi dari variabel like. Pada bagian ini, cukup tampilkan nilai mean variabel like.\n",
    "1. Ambil subset dari data untuk pengguna yang memiliki banyak follower kurang dari 200 orang. Untuk menghindari error, buang observasi dengan like sebanyak nol. Jika langkah yang diambil benar, akan didapat sebanyak 25 observasi.\n",
    "1. Uji apa yang tepat untuk membuktikan klaim tersebut? Berikan justifikasi.\n",
    "1. Lakukan uji tersebut dengan tingkat signifikansi 10%. Jika asumsi tidak terpenuhi, lakukan transformasi dengan Tukey’s Ladder! (Selain coba-coba, nilai λ boleh dicari dengan bantuan fungsi box cox di R)\n",
    "1. Berdasarkan langkah-langkah yang telah dilakukan di atas, hal menarik apa yang dapat anda simpulkan? Elaborasikan dalam satu paragraf singkat."
   ]
  },
  {
   "cell_type": "markdown",
   "id": "431ccc64",
   "metadata": {
    "_cell_guid": "bfeb9abe-a5c8-4c62-8cbc-7c3cbed6dcea",
    "_uuid": "adbce7e8-ac80-4502-8da2-a070a9d50d29",
    "papermill": {
     "duration": 0.008914,
     "end_time": "2023-04-28T01:51:43.025084",
     "exception": false,
     "start_time": "2023-04-28T01:51:43.016170",
     "status": "completed"
    },
    "tags": []
   },
   "source": [
    "### 2A. Mean variabel like"
   ]
  },
  {
   "cell_type": "code",
   "execution_count": 8,
   "id": "33d107cb",
   "metadata": {
    "_cell_guid": "ad18b971-c20a-40c1-ac1f-9de61fb7c607",
    "_uuid": "169b0cc6-99fb-42bc-a396-02a0e6c34a5f",
    "collapsed": false,
    "execution": {
     "iopub.execute_input": "2023-04-28T01:51:43.046629Z",
     "iopub.status.busy": "2023-04-28T01:51:43.045065Z",
     "iopub.status.idle": "2023-04-28T01:51:43.058803Z",
     "shell.execute_reply": "2023-04-28T01:51:43.057046Z"
    },
    "jupyter": {
     "outputs_hidden": false
    },
    "papermill": {
     "duration": 0.027213,
     "end_time": "2023-04-28T01:51:43.061171",
     "exception": false,
     "start_time": "2023-04-28T01:51:43.033958",
     "status": "completed"
    },
    "tags": []
   },
   "outputs": [],
   "source": [
    "mu2 = mean(df$like)"
   ]
  },
  {
   "cell_type": "markdown",
   "id": "3edbf940",
   "metadata": {
    "_cell_guid": "a5c2f223-b56c-40ed-956a-5c2cce3ca717",
    "_uuid": "74158902-f9c6-43b3-ad00-55cd37903478",
    "papermill": {
     "duration": 0.008954,
     "end_time": "2023-04-28T01:51:43.078911",
     "exception": false,
     "start_time": "2023-04-28T01:51:43.069957",
     "status": "completed"
    },
    "tags": []
   },
   "source": [
    "### 2B. Subset variabel like"
   ]
  },
  {
   "cell_type": "code",
   "execution_count": 9,
   "id": "2d4948ce",
   "metadata": {
    "_cell_guid": "543d0afc-d49c-4946-8983-02e985d76707",
    "_uuid": "b5d0fb29-14b2-45cc-95fb-9f45125b422e",
    "collapsed": false,
    "execution": {
     "iopub.execute_input": "2023-04-28T01:51:43.100055Z",
     "iopub.status.busy": "2023-04-28T01:51:43.098500Z",
     "iopub.status.idle": "2023-04-28T01:51:43.138620Z",
     "shell.execute_reply": "2023-04-28T01:51:43.136259Z"
    },
    "jupyter": {
     "outputs_hidden": false
    },
    "papermill": {
     "duration": 0.053144,
     "end_time": "2023-04-28T01:51:43.141027",
     "exception": false,
     "start_time": "2023-04-28T01:51:43.087883",
     "status": "completed"
    },
    "tags": []
   },
   "outputs": [
    {
     "data": {
      "text/html": [
       "<table class=\"dataframe\">\n",
       "<caption>A data.frame: 6 × 6</caption>\n",
       "<thead>\n",
       "\t<tr><th></th><th scope=col>post</th><th scope=col>follower</th><th scope=col>following</th><th scope=col>like</th><th scope=col>self</th><th scope=col>gender</th></tr>\n",
       "\t<tr><th></th><th scope=col>&lt;int&gt;</th><th scope=col>&lt;int&gt;</th><th scope=col>&lt;int&gt;</th><th scope=col>&lt;int&gt;</th><th scope=col>&lt;int&gt;</th><th scope=col>&lt;chr&gt;</th></tr>\n",
       "</thead>\n",
       "<tbody>\n",
       "\t<tr><th scope=row>9</th><td> 391</td><td>175</td><td> 33</td><td> 30</td><td>9</td><td>m</td></tr>\n",
       "\t<tr><th scope=row>12</th><td>5263</td><td>153</td><td>166</td><td>127</td><td>9</td><td>f</td></tr>\n",
       "\t<tr><th scope=row>14</th><td> 536</td><td>190</td><td> 91</td><td> 56</td><td>7</td><td>f</td></tr>\n",
       "\t<tr><th scope=row>19</th><td> 350</td><td> 95</td><td> 43</td><td> 34</td><td>1</td><td>m</td></tr>\n",
       "\t<tr><th scope=row>23</th><td> 323</td><td>193</td><td> 71</td><td> 82</td><td>9</td><td>f</td></tr>\n",
       "\t<tr><th scope=row>27</th><td> 117</td><td>120</td><td> 17</td><td> 13</td><td>1</td><td>f</td></tr>\n",
       "</tbody>\n",
       "</table>\n"
      ],
      "text/latex": [
       "A data.frame: 6 × 6\n",
       "\\begin{tabular}{r|llllll}\n",
       "  & post & follower & following & like & self & gender\\\\\n",
       "  & <int> & <int> & <int> & <int> & <int> & <chr>\\\\\n",
       "\\hline\n",
       "\t9 &  391 & 175 &  33 &  30 & 9 & m\\\\\n",
       "\t12 & 5263 & 153 & 166 & 127 & 9 & f\\\\\n",
       "\t14 &  536 & 190 &  91 &  56 & 7 & f\\\\\n",
       "\t19 &  350 &  95 &  43 &  34 & 1 & m\\\\\n",
       "\t23 &  323 & 193 &  71 &  82 & 9 & f\\\\\n",
       "\t27 &  117 & 120 &  17 &  13 & 1 & f\\\\\n",
       "\\end{tabular}\n"
      ],
      "text/markdown": [
       "\n",
       "A data.frame: 6 × 6\n",
       "\n",
       "| <!--/--> | post &lt;int&gt; | follower &lt;int&gt; | following &lt;int&gt; | like &lt;int&gt; | self &lt;int&gt; | gender &lt;chr&gt; |\n",
       "|---|---|---|---|---|---|---|\n",
       "| 9 |  391 | 175 |  33 |  30 | 9 | m |\n",
       "| 12 | 5263 | 153 | 166 | 127 | 9 | f |\n",
       "| 14 |  536 | 190 |  91 |  56 | 7 | f |\n",
       "| 19 |  350 |  95 |  43 |  34 | 1 | m |\n",
       "| 23 |  323 | 193 |  71 |  82 | 9 | f |\n",
       "| 27 |  117 | 120 |  17 |  13 | 1 | f |\n",
       "\n"
      ],
      "text/plain": [
       "   post follower following like self gender\n",
       "9   391 175       33        30  9    m     \n",
       "12 5263 153      166       127  9    f     \n",
       "14  536 190       91        56  7    f     \n",
       "19  350  95       43        34  1    m     \n",
       "23  323 193       71        82  9    f     \n",
       "27  117 120       17        13  1    f     "
      ]
     },
     "metadata": {},
     "output_type": "display_data"
    }
   ],
   "source": [
    "# salah satu cara\n",
    "df2 = df[df$follower<200 & df$like > 0,]\n",
    "head(df2)"
   ]
  },
  {
   "cell_type": "markdown",
   "id": "ef115211",
   "metadata": {
    "_cell_guid": "8d70d605-2a97-4eca-89f8-a578fa00bf20",
    "_uuid": "b2a082ed-407d-4607-9d44-1ba8dd6c0d0d",
    "papermill": {
     "duration": 0.009013,
     "end_time": "2023-04-28T01:51:43.159796",
     "exception": false,
     "start_time": "2023-04-28T01:51:43.150783",
     "status": "completed"
    },
    "tags": []
   },
   "source": [
    "### 2C. Pengujian klaim\n",
    "Uji bisa dilakukan dengan:\n",
    "1. t.test, jika menggunakan asumsi seperti nomor 1: hanya statistik sampel yang diketahui, sedangkan parameter populasi tidak diketahui seperti real life problem.\n",
    "2. z.test, jika standar deviasi populasi dianggap diketahui.\n",
    "\n",
    "dengan H0: mu <= mu0; mu = mean sampel, mu0 = mean populasi"
   ]
  },
  {
   "cell_type": "markdown",
   "id": "c7c3fadf",
   "metadata": {
    "_cell_guid": "a94fc8c1-7eca-4a10-a3a4-fd324e8d35c3",
    "_uuid": "6a4e43e7-7067-4a31-8728-7cd062ee0468",
    "papermill": {
     "duration": 0.00896,
     "end_time": "2023-04-28T01:51:43.177629",
     "exception": false,
     "start_time": "2023-04-28T01:51:43.168669",
     "status": "completed"
    },
    "tags": []
   },
   "source": [
    "### 2D. Uji Hipotesis\n",
    "1. asumsi normalitas: menjurai ke atas, transformasi log.   \n",
    "1. t.test, z.test: didapatkan kesimpulan bahwa mean like sampel kurang dari mean like populasi"
   ]
  },
  {
   "cell_type": "code",
   "execution_count": 10,
   "id": "1d5f2594",
   "metadata": {
    "_cell_guid": "90e3c68f-26bd-47b2-b9e6-989e2245de3c",
    "_uuid": "33eaea09-0c7b-46b6-8e9a-48e06ba566d0",
    "collapsed": false,
    "execution": {
     "iopub.execute_input": "2023-04-28T01:51:43.199518Z",
     "iopub.status.busy": "2023-04-28T01:51:43.198048Z",
     "iopub.status.idle": "2023-04-28T01:51:43.536286Z",
     "shell.execute_reply": "2023-04-28T01:51:43.534434Z"
    },
    "jupyter": {
     "outputs_hidden": false
    },
    "papermill": {
     "duration": 0.352665,
     "end_time": "2023-04-28T01:51:43.539280",
     "exception": false,
     "start_time": "2023-04-28T01:51:43.186615",
     "status": "completed"
    },
    "tags": []
   },
   "outputs": [
    {
     "data": {
      "image/png": "[encoded data removed]"
     },
     "metadata": {
      "image/png": {
       "height": 420,
       "width": 420
      }
     },
     "output_type": "display_data"
    },
    {
     "data": {
      "text/html": [
       "-0.0606060606060606"
      ],
      "text/latex": [
       "-0.0606060606060606"
      ],
      "text/markdown": [
       "-0.0606060606060606"
      ],
      "text/plain": [
       "[1] -0.06060606"
      ]
     },
     "metadata": {},
     "output_type": "display_data"
    },
    {
     "data": {
      "image/png": "[encoded data removed]"
     },
     "metadata": {
      "image/png": {
       "height": 420,
       "width": 420
      }
     },
     "output_type": "display_data"
    },
    {
     "name": "stdout",
     "output_type": "stream",
     "text": [
      "\n",
      "  Box-Cox power transformation \n",
      "------------------------------------------------------------------- \n",
      "\n",
      "  lambda.hat : -0.05 \n",
      "\n",
      "\n",
      "  Shapiro-Wilk normality test for transformed data (alpha = 0.05)\n",
      "------------------------------------------------------------------- \n",
      "\n",
      "  statistic  : 0.9743466 \n",
      "  p.value    : 0.7555338 \n",
      "\n",
      "  Result     : Transformed data are normal. \n",
      "------------------------------------------------------------------- \n",
      "\n"
     ]
    },
    {
     "data": {
      "image/png": "[encoded data removed]"
     },
     "metadata": {
      "image/png": {
       "height": 420,
       "width": 420
      }
     },
     "output_type": "display_data"
    }
   ],
   "source": [
    "df2s = df2$like\n",
    "\n",
    "# sedikit menjurai ke atas, \n",
    "boxplot(df2s)\n",
    "\n",
    "# transformasi log\n",
    "lam = boxcox(df2s~1)\n",
    "lam$x[which.max(lam$y)]\n",
    "\n",
    "boxcoxnc(df2s, alpha=0.05, method=\"mle\")\n",
    "\n",
    "df2t = log(df2s)"
   ]
  },
  {
   "cell_type": "code",
   "execution_count": null,
   "id": "9e7024ca",
   "metadata": {
    "papermill": {
     "duration": 0.012164,
     "end_time": "2023-04-28T01:51:43.563759",
     "exception": false,
     "start_time": "2023-04-28T01:51:43.551595",
     "status": "completed"
    },
    "tags": []
   },
   "outputs": [],
   "source": []
  },
  {
   "cell_type": "code",
   "execution_count": 11,
   "id": "188ebce3",
   "metadata": {
    "execution": {
     "iopub.execute_input": "2023-04-28T01:51:43.591492Z",
     "iopub.status.busy": "2023-04-28T01:51:43.589846Z",
     "iopub.status.idle": "2023-04-28T01:51:43.606287Z",
     "shell.execute_reply": "2023-04-28T01:51:43.604712Z"
    },
    "papermill": {
     "duration": 0.032721,
     "end_time": "2023-04-28T01:51:43.608740",
     "exception": false,
     "start_time": "2023-04-28T01:51:43.576019",
     "status": "completed"
    },
    "tags": []
   },
   "outputs": [
    {
     "data": {
      "text/html": [
       "1.27800760388686"
      ],
      "text/latex": [
       "1.27800760388686"
      ],
      "text/markdown": [
       "1.27800760388686"
      ],
      "text/plain": [
       "[1] 1.278008"
      ]
     },
     "metadata": {},
     "output_type": "display_data"
    }
   ],
   "source": [
    "sd(log(df$like+1))"
   ]
  },
  {
   "cell_type": "code",
   "execution_count": 12,
   "id": "fee0fa02",
   "metadata": {
    "execution": {
     "iopub.execute_input": "2023-04-28T01:51:43.636371Z",
     "iopub.status.busy": "2023-04-28T01:51:43.634927Z",
     "iopub.status.idle": "2023-04-28T01:51:43.664184Z",
     "shell.execute_reply": "2023-04-28T01:51:43.662583Z"
    },
    "papermill": {
     "duration": 0.045461,
     "end_time": "2023-04-28T01:51:43.666452",
     "exception": false,
     "start_time": "2023-04-28T01:51:43.620991",
     "status": "completed"
    },
    "tags": []
   },
   "outputs": [
    {
     "data": {
      "text/plain": [
       "\n",
       "\tOne Sample t-test\n",
       "\n",
       "data:  df2t\n",
       "t = -5.2713, df = 24, p-value = 1.047e-05\n",
       "alternative hypothesis: true mean is less than 4.698814\n",
       "95 percent confidence interval:\n",
       "     -Inf 3.716112\n",
       "sample estimates:\n",
       "mean of x \n",
       " 3.243895 \n"
      ]
     },
     "metadata": {},
     "output_type": "display_data"
    },
    {
     "data": {
      "text/plain": [
       "\n",
       "\tOne Sample t-test\n",
       "\n",
       "data:  df2t\n",
       "t = -2.2532, df = 24, p-value = 0.01683\n",
       "alternative hypothesis: true mean is less than 3.865789\n",
       "95 percent confidence interval:\n",
       "     -Inf 3.716112\n",
       "sample estimates:\n",
       "mean of x \n",
       " 3.243895 \n"
      ]
     },
     "metadata": {},
     "output_type": "display_data"
    },
    {
     "data": {
      "text/plain": [
       "\n",
       "\tOne-sample z-Test\n",
       "\n",
       "data:  df2t\n",
       "z = -2.1335, p-value = 0.01644\n",
       "alternative hypothesis: true mean is less than 3.865789\n",
       "95 percent confidence interval:\n",
       "       NA 3.723343\n",
       "sample estimates:\n",
       "mean of x \n",
       " 3.243895 \n"
      ]
     },
     "metadata": {},
     "output_type": "display_data"
    }
   ],
   "source": [
    "# t.test, no install2 library\n",
    "t.test(df2t, alternative=\"l\", mu=log(mu2))\n",
    "\n",
    "# benernya mean-log-pop sih :\"\n",
    "# kan sampelnya juga dilog baru dibandingkan meannya\n",
    "# tapi atas juga bisa dianggep bener, kok. sans.\n",
    "t.test(df2t, alternative=\"l\", mu=mean(log(df$like+0.0001)))\n",
    "\n",
    "# z.test, pakai BSDA, +0.0001 digunakan agar tidak NaN \n",
    "z.test(df2t, alternative=\"l\", mu=mean(log(df$like+0.0001)), sigma.x=sd(log(df$like+0.0001)))\n",
    "\n",
    "\n"
   ]
  },
  {
   "cell_type": "markdown",
   "id": "92a81928",
   "metadata": {
    "papermill": {
     "duration": 0.012282,
     "end_time": "2023-04-28T01:51:43.691705",
     "exception": false,
     "start_time": "2023-04-28T01:51:43.679423",
     "status": "completed"
    },
    "tags": []
   },
   "source": [
    "### 2E. Insight\n",
    "Dengan pendekatan yang berbeda, didapatkan kesimpulan bahwa untuk jumlah follower sedikit (kurang dari 200 orang) memiliki mean like yang lebih rendah diabandingkan mean keseluruhan (populasi). Sehingga, **bisa jadi**, variabel follower berkorelasi secara positif dengan variabel like."
   ]
  },
  {
   "cell_type": "code",
   "execution_count": null,
   "id": "d0acfbde",
   "metadata": {
    "papermill": {
     "duration": 0.012261,
     "end_time": "2023-04-28T01:51:43.716325",
     "exception": false,
     "start_time": "2023-04-28T01:51:43.704064",
     "status": "completed"
    },
    "tags": []
   },
   "outputs": [],
   "source": []
  }
 ],
 "metadata": {
  "kernelspec": {
   "display_name": "R",
   "language": "R",
   "name": "ir"
  },
  "language_info": {
   "codemirror_mode": "r",
   "file_extension": ".r",
   "mimetype": "text/x-r-source",
   "name": "R",
   "pygments_lexer": "r",
   "version": "4.0.5"
  },
  "papermill": {
   "default_parameters": {},
   "duration": 9.464009,
   "end_time": "2023-04-28T01:51:43.849532",
   "environment_variables": {},
   "exception": null,
   "input_path": "__notebook__.ipynb",
   "output_path": "__notebook__.ipynb",
   "parameters": {},
   "start_time": "2023-04-28T01:51:34.385523",
   "version": "2.4.0"
  }
 },
 "nbformat": 4,
 "nbformat_minor": 5
}
