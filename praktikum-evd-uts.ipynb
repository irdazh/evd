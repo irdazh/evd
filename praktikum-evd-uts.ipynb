{
 "cells": [
  {
   "cell_type": "markdown",
   "id": "85b296f3",
   "metadata": {
    "papermill": {
     "duration": 0.005213,
     "end_time": "2023-04-26T02:45:11.011605",
     "exception": false,
     "start_time": "2023-04-26T02:45:11.006392",
     "status": "completed"
    },
    "tags": []
   },
   "source": [
    "## Laprak UTS EVD 2023 Kelas A\n",
    "**Nomor 1**   \n",
    "Masih ingatkah dengan data instagram yang lalu, Dynamics of Instagram users dataset? Pada bagian ini, akan kita dalami lebih lanjut untuk mendapatkan insight lebih banyak dari para pengguna instagram. Sebagai pengingat, data tersebut diambil dari 464 pengguna instagram, yang terdiri dari enam variabel. Keenam variabel tersebut adalah:  \n",
    "```\n",
    "post\t\t: jumlah post\n",
    "follower\t: jumlah follower\n",
    "following\t: jumlah following\n",
    "like\t\t: jumlah like untuk beberapa postingan terakhir\n",
    "self \t\t: tingkat kepercayaan diri pengguna (variabel ordinal 0 – 9)\n",
    "gender\t\t: jenis kelamin (f: perempuan, m: laki-laki)\n",
    "```   \n",
    "Pada tugas sebelumnya, kita telah menyajikan, meringkas, serta melakukan beberapa transformasi dan standardisasi pada data pengguna instagram. Setelah mendapat beberapa insight dan pemahaman sekilas mengenai data, barulah kita beranjak ke tahap berikutnya: uji hipotesis.  \n",
    "Berdasarkan informasi terkini, diketahui bahwa data pengguna instagram yang kita miliki merupakan data sensus (seluruh populasi) dari Kota X.  Mengacu pada informasi tersebut, lakukanlah hal-hal berikut:\n",
    "1. Buatlah ringkasan 5 angka, mean, serta standar deviasi dari variabel follower. Sajikan hasilnya ke dalam tabel. Ringkasan parameter tersebutlah yang akan kita gunakan sebagai acuan untuk uji hipotesis ke depannya.    \n",
    "    Standar deviasi di sini merupakan standar deviasi populasi, sedangkan fungsi sd menghitung standar deviasi sampel. Hitung secara manual, atau gunakan koreksi pada hasil fungsi sd untuk menghitung standar deviasi populasi.\n",
    "1. Selanjutnya, kita lakukan survei terhadap penduduk Kota X. Kita ambil sampel sebanyak 50 orang secara acak tanpa pengembalian.  Lakukan hal tersebut di R, dengan menggunakan NIF sebagai random seed – set.seed(NIF) – sebelum melakukan pengambilan sampel.\n",
    "1. Lakukanlah bagian (a) kembali (variabel follower) untuk sampel yang sudah didapatkan di bagian (b). Kira-kira, apakah statistik dari sampel tersebut dapat digunakan sebagai estimasi dari parameter populasi? Jelaskan\n",
    "1. Menggunakan data sampel, ujilah pernyataan μ = μ0; dengan μ0 adalah mean populasi variabel follower. Jika asumsi tidak terpenuhi, maka anggap terpenuhi dan lanjutkan ke proses berikutnya.\n",
    "1. Berdasarkan langkah-langkah yang telah dilakukan di atas, hal menarik apa yang dapat anda simpulkan? Elaborasikan dalam satu paragraf singkat.\n",
    "\n"
   ]
  },
  {
   "cell_type": "code",
   "execution_count": 1,
   "id": "82cb8576",
   "metadata": {
    "_cell_guid": "137978ce-0713-4d10-8f96-23e38ef6536a",
    "_uuid": "99cc06f9-b7ae-451c-8445-873ab3818120",
    "collapsed": false,
    "execution": {
     "iopub.execute_input": "2023-04-26T02:45:11.026954Z",
     "iopub.status.busy": "2023-04-26T02:45:11.024202Z",
     "iopub.status.idle": "2023-04-26T02:45:12.666836Z",
     "shell.execute_reply": "2023-04-26T02:45:12.664956Z"
    },
    "jupyter": {
     "outputs_hidden": false
    },
    "papermill": {
     "duration": 1.653312,
     "end_time": "2023-04-26T02:45:12.669261",
     "exception": false,
     "start_time": "2023-04-26T02:45:11.015949",
     "status": "completed"
    },
    "tags": []
   },
   "outputs": [
    {
     "name": "stderr",
     "output_type": "stream",
     "text": [
      "── \u001b[1mAttaching packages\u001b[22m ─────────────────────────────────────── tidyverse 1.3.1 ──\n",
      "\n",
      "\u001b[32m✔\u001b[39m \u001b[34mggplot2\u001b[39m 3.3.6     \u001b[32m✔\u001b[39m \u001b[34mpurrr  \u001b[39m 0.3.4\n",
      "\u001b[32m✔\u001b[39m \u001b[34mtibble \u001b[39m 3.1.7     \u001b[32m✔\u001b[39m \u001b[34mdplyr  \u001b[39m 1.0.9\n",
      "\u001b[32m✔\u001b[39m \u001b[34mtidyr  \u001b[39m 1.2.0     \u001b[32m✔\u001b[39m \u001b[34mstringr\u001b[39m 1.4.0\n",
      "\u001b[32m✔\u001b[39m \u001b[34mreadr  \u001b[39m 2.1.2     \u001b[32m✔\u001b[39m \u001b[34mforcats\u001b[39m 0.5.1\n",
      "\n",
      "── \u001b[1mConflicts\u001b[22m ────────────────────────────────────────── tidyverse_conflicts() ──\n",
      "\u001b[31m✖\u001b[39m \u001b[34mdplyr\u001b[39m::\u001b[32mfilter()\u001b[39m masks \u001b[34mstats\u001b[39m::filter()\n",
      "\u001b[31m✖\u001b[39m \u001b[34mdplyr\u001b[39m::\u001b[32mlag()\u001b[39m    masks \u001b[34mstats\u001b[39m::lag()\n",
      "\n",
      "\n",
      "Attaching package: ‘plotly’\n",
      "\n",
      "\n",
      "The following object is masked from ‘package:ggplot2’:\n",
      "\n",
      "    last_plot\n",
      "\n",
      "\n",
      "The following object is masked from ‘package:stats’:\n",
      "\n",
      "    filter\n",
      "\n",
      "\n",
      "The following object is masked from ‘package:graphics’:\n",
      "\n",
      "    layout\n",
      "\n",
      "\n",
      "The following object is masked from ‘package:httr’:\n",
      "\n",
      "    config\n",
      "\n",
      "\n",
      "Loading required package: lattice\n",
      "\n",
      "\n",
      "Attaching package: ‘BSDA’\n",
      "\n",
      "\n",
      "The following object is masked from ‘package:datasets’:\n",
      "\n",
      "    Orange\n",
      "\n",
      "\n"
     ]
    }
   ],
   "source": [
    "library(tidyverse)\n",
    "library(plotly)\n",
    "library(BSDA)"
   ]
  },
  {
   "cell_type": "code",
   "execution_count": 2,
   "id": "0de32a12",
   "metadata": {
    "execution": {
     "iopub.execute_input": "2023-04-26T02:45:12.728289Z",
     "iopub.status.busy": "2023-04-26T02:45:12.679995Z",
     "iopub.status.idle": "2023-04-26T02:45:12.754522Z",
     "shell.execute_reply": "2023-04-26T02:45:12.752802Z"
    },
    "papermill": {
     "duration": 0.083223,
     "end_time": "2023-04-26T02:45:12.756927",
     "exception": false,
     "start_time": "2023-04-26T02:45:12.673704",
     "status": "completed"
    },
    "tags": []
   },
   "outputs": [],
   "source": [
    "df = read.csv(\"/kaggle/input/praktikum-evd/tugas1_evd.csv\")\n",
    "df1 = df$follower"
   ]
  },
  {
   "cell_type": "code",
   "execution_count": null,
   "id": "437ed22c",
   "metadata": {
    "papermill": {
     "duration": 0.004489,
     "end_time": "2023-04-26T02:45:12.766075",
     "exception": false,
     "start_time": "2023-04-26T02:45:12.761586",
     "status": "completed"
    },
    "tags": []
   },
   "outputs": [],
   "source": []
  },
  {
   "cell_type": "markdown",
   "id": "13530520",
   "metadata": {
    "papermill": {
     "duration": 0.004507,
     "end_time": "2023-04-26T02:45:12.774924",
     "exception": false,
     "start_time": "2023-04-26T02:45:12.770417",
     "status": "completed"
    },
    "tags": []
   },
   "source": [
    "### 1A. Ringkasan parameter populasi\n",
    "1. ringkasan lima angka dan mean -> `summary()`\n",
    "1. standar deviasi populasi -> `sd()` koreksi dengan mengganti pembagi n-1 ke n\n"
   ]
  },
  {
   "cell_type": "code",
   "execution_count": 3,
   "id": "efc0c08f",
   "metadata": {
    "execution": {
     "iopub.execute_input": "2023-04-26T02:45:12.787039Z",
     "iopub.status.busy": "2023-04-26T02:45:12.785451Z",
     "iopub.status.idle": "2023-04-26T02:45:12.818724Z",
     "shell.execute_reply": "2023-04-26T02:45:12.817058Z"
    },
    "papermill": {
     "duration": 0.041691,
     "end_time": "2023-04-26T02:45:12.821104",
     "exception": false,
     "start_time": "2023-04-26T02:45:12.779413",
     "status": "completed"
    },
    "tags": []
   },
   "outputs": [
    {
     "data": {
      "text/plain": [
       "   Min. 1st Qu.  Median    Mean 3rd Qu.    Max. \n",
       "     11     501    1168    2049    2911    7735 "
      ]
     },
     "metadata": {},
     "output_type": "display_data"
    },
    {
     "data": {
      "text/html": [
       "2049.09121606044"
      ],
      "text/latex": [
       "2049.09121606044"
      ],
      "text/markdown": [
       "2049.09121606044"
      ],
      "text/plain": [
       "[1] 2049.091"
      ]
     },
     "metadata": {},
     "output_type": "display_data"
    }
   ],
   "source": [
    "# dalam laporan, masukkan nilai-nilainya ke dalam tabel\n",
    "en = length(df1)\n",
    "mu0 = mean(df1)\n",
    "\n",
    "summary(df1)\n",
    "# koreksi untuk populasi\n",
    "((en-1)/en)^0.5*sd(df1)"
   ]
  },
  {
   "cell_type": "markdown",
   "id": "6aeac78e",
   "metadata": {
    "papermill": {
     "duration": 0.004666,
     "end_time": "2023-04-26T02:45:12.830468",
     "exception": false,
     "start_time": "2023-04-26T02:45:12.825802",
     "status": "completed"
    },
    "tags": []
   },
   "source": [
    "### 1B. Pengambilan sampel tanpa pengembalian"
   ]
  },
  {
   "cell_type": "code",
   "execution_count": 4,
   "id": "23d667b4",
   "metadata": {
    "execution": {
     "iopub.execute_input": "2023-04-26T02:45:12.842676Z",
     "iopub.status.busy": "2023-04-26T02:45:12.841176Z",
     "iopub.status.idle": "2023-04-26T02:45:13.179677Z",
     "shell.execute_reply": "2023-04-26T02:45:13.176938Z"
    },
    "papermill": {
     "duration": 0.347782,
     "end_time": "2023-04-26T02:45:13.182768",
     "exception": false,
     "start_time": "2023-04-26T02:45:12.834986",
     "status": "completed"
    },
    "tags": []
   },
   "outputs": [
    {
     "data": {
      "image/png": "[encoded data removed]"
     },
     "metadata": {
      "image/png": {
       "height": 420,
       "width": 420
      }
     },
     "output_type": "display_data"
    },
    {
     "data": {
      "image/png": "[encoded data removed]"
     },
     "metadata": {
      "image/png": {
       "height": 420,
       "width": 420
      }
     },
     "output_type": "display_data"
    }
   ],
   "source": [
    "# isi dengan NIF masing-masing\n",
    "set.seed(20462)\n",
    "df1s = sample(df1, size=50, replace=F)\n",
    "\n",
    "# kalau gabut, menjurai atas\n",
    "hist(df1s); boxplot(df1s)"
   ]
  },
  {
   "cell_type": "markdown",
   "id": "4fd969b4",
   "metadata": {
    "papermill": {
     "duration": 0.005496,
     "end_time": "2023-04-26T02:45:13.193621",
     "exception": false,
     "start_time": "2023-04-26T02:45:13.188125",
     "status": "completed"
    },
    "tags": []
   },
   "source": [
    "### 1C. Ringkasan statistik populasi\n",
    "1. baca bagian 1A\n",
    "1. untuk seed=20462, kira-kira (subjektif, berdasarkan persentase error)\n",
    "    1. Q1 dan max dapat mewakili populasi\n",
    "    1. median, mean, Q3 cukup mewakili populasi\n",
    "    1. min tidak dapat mewakili populasi "
   ]
  },
  {
   "cell_type": "code",
   "execution_count": null,
   "id": "28a4c6a6",
   "metadata": {
    "papermill": {
     "duration": 0.005307,
     "end_time": "2023-04-26T02:45:13.204163",
     "exception": false,
     "start_time": "2023-04-26T02:45:13.198856",
     "status": "completed"
    },
    "tags": []
   },
   "outputs": [],
   "source": []
  },
  {
   "cell_type": "code",
   "execution_count": 5,
   "id": "332a5dcb",
   "metadata": {
    "execution": {
     "iopub.execute_input": "2023-04-26T02:45:13.218155Z",
     "iopub.status.busy": "2023-04-26T02:45:13.216600Z",
     "iopub.status.idle": "2023-04-26T02:45:13.242870Z",
     "shell.execute_reply": "2023-04-26T02:45:13.241163Z"
    },
    "papermill": {
     "duration": 0.0356,
     "end_time": "2023-04-26T02:45:13.245211",
     "exception": false,
     "start_time": "2023-04-26T02:45:13.209611",
     "status": "completed"
    },
    "tags": []
   },
   "outputs": [
    {
     "data": {
      "text/plain": [
       "   Min. 1st Qu.  Median    Mean 3rd Qu.    Max. \n",
       "  162.0   542.2   986.5  1716.0  2435.0  7500.0 "
      ]
     },
     "metadata": {},
     "output_type": "display_data"
    },
    {
     "data": {
      "text/html": [
       "1805.66593470528"
      ],
      "text/latex": [
       "1805.66593470528"
      ],
      "text/markdown": [
       "1805.66593470528"
      ],
      "text/plain": [
       "[1] 1805.666"
      ]
     },
     "metadata": {},
     "output_type": "display_data"
    }
   ],
   "source": [
    "# dalam laporan, masukkan nilai-nilainya ke dalam tabel\n",
    "en = length(df1s)\n",
    "mu1s = mean(df1s)\n",
    "\n",
    "summary(df1s)\n",
    "# sudah sampel, tak perlu koreksi\n",
    "sd(df1s)"
   ]
  },
  {
   "cell_type": "code",
   "execution_count": 6,
   "id": "0a6c27fa",
   "metadata": {
    "execution": {
     "iopub.execute_input": "2023-04-26T02:45:13.260006Z",
     "iopub.status.busy": "2023-04-26T02:45:13.258445Z",
     "iopub.status.idle": "2023-04-26T02:45:13.277866Z",
     "shell.execute_reply": "2023-04-26T02:45:13.275789Z"
    },
    "papermill": {
     "duration": 0.030053,
     "end_time": "2023-04-26T02:45:13.280821",
     "exception": false,
     "start_time": "2023-04-26T02:45:13.250768",
     "status": "completed"
    },
    "tags": []
   },
   "outputs": [
    {
     "data": {
      "text/plain": [
       "    Min.  1st Qu.   Median     Mean  3rd Qu.     Max. \n",
       "1372.727    8.233  -15.575  -16.244  -16.352   -3.038 "
      ]
     },
     "metadata": {},
     "output_type": "display_data"
    }
   ],
   "source": [
    "# persentase error, bandingkan pop vs sampel\n",
    "# apakah 16% besar? subjektif.\n",
    "(summary(df1s)-summary(df1))/summary(df1)*100"
   ]
  },
  {
   "cell_type": "code",
   "execution_count": null,
   "id": "da24b3ab",
   "metadata": {
    "papermill": {
     "duration": 0.011234,
     "end_time": "2023-04-26T02:45:13.297690",
     "exception": false,
     "start_time": "2023-04-26T02:45:13.286456",
     "status": "completed"
    },
    "tags": []
   },
   "outputs": [],
   "source": []
  },
  {
   "cell_type": "markdown",
   "id": "334ef1d4",
   "metadata": {
    "papermill": {
     "duration": 0.005806,
     "end_time": "2023-04-26T02:45:13.309252",
     "exception": false,
     "start_time": "2023-04-26T02:45:13.303446",
     "status": "completed"
    },
    "tags": []
   },
   "source": [
    "### 1D. Uji hipotesis mu = mu0\n",
    "1. Uji asumsi normalitas\n",
    "1. Uji hipotesis (tergantung random-seed)\n",
    "    1. Dengan menganggap data memenuhi asumsi normalitas, dapat disimpulkan bahwa mean follower sampel tidak berbeda dengan mu0\n",
    "    1. (Ekstra) Dengan melakukan transformasi, dapat disimpulkan bahwa mean follower sampel tidak berbeda dengan mu0\n",
    "\n",
    "\n",
    "### 1E. Elaborasi\n",
    "Mean dari 10% sampel tanpa pengembalian dari populasi tidak berdistribusi normal tidaklah berbeda secara signifikan dari mean populasi. Itu artinya, dalam kasus ini, mean dari 10% sampel tanpa pengembalian dapat digunakan sebagai estimasi dari mean populasi. Hal ini cukup memudahkan penelitian karena kita perlu melakukan sensus seluruh populasi, cukup mengambil sebagian sampel saja (dalam kasus ini, 10% cukup).\n",
    "\n",
    "Begitu juga untuk versi \"benar\"-nya, dengan transformasi sebelum uji hipotesis. Didapatkan kesimpulan yang sama, 10% sampel cukup untuk mengestimasi mean dari populasi. (Lebih baik, malah)\n"
   ]
  },
  {
   "cell_type": "code",
   "execution_count": 7,
   "id": "32c14bb4",
   "metadata": {
    "execution": {
     "iopub.execute_input": "2023-04-26T02:45:13.324006Z",
     "iopub.status.busy": "2023-04-26T02:45:13.322127Z",
     "iopub.status.idle": "2023-04-26T02:45:13.433999Z",
     "shell.execute_reply": "2023-04-26T02:45:13.432284Z"
    },
    "papermill": {
     "duration": 0.121848,
     "end_time": "2023-04-26T02:45:13.436644",
     "exception": false,
     "start_time": "2023-04-26T02:45:13.314796",
     "status": "completed"
    },
    "tags": []
   },
   "outputs": [
    {
     "data": {
      "text/plain": [
       "\n",
       "\tOne Sample t-test\n",
       "\n",
       "data:  df1s\n",
       "t = -1.3033, df = 49, p-value = 0.1986\n",
       "alternative hypothesis: true mean is not equal to 2048.858\n",
       "95 percent confidence interval:\n",
       " 1202.875 2229.205\n",
       "sample estimates:\n",
       "mean of x \n",
       "  1716.04 \n"
      ]
     },
     "metadata": {},
     "output_type": "display_data"
    },
    {
     "data": {
      "text/plain": [
       "\n",
       "\tOne Sample t-test\n",
       "\n",
       "data:  log(df1s)\n",
       "t = -0.50372, df = 49, p-value = 0.6167\n",
       "alternative hypothesis: true mean is not equal to 7.0658\n",
       "95 percent confidence interval:\n",
       " 6.727053 7.268761\n",
       "sample estimates:\n",
       "mean of x \n",
       " 6.997907 \n"
      ]
     },
     "metadata": {},
     "output_type": "display_data"
    },
    {
     "data": {
      "text/html": [
       "1094.34052363571"
      ],
      "text/latex": [
       "1094.34052363571"
      ],
      "text/markdown": [
       "1094.34052363571"
      ],
      "text/plain": [
       "[1] 1094.341"
      ]
     },
     "metadata": {},
     "output_type": "display_data"
    },
    {
     "data": {
      "text/html": [
       "1171.21806866374"
      ],
      "text/latex": [
       "1171.21806866374"
      ],
      "text/markdown": [
       "1171.21806866374"
      ],
      "text/plain": [
       "[1] 1171.218"
      ]
     },
     "metadata": {},
     "output_type": "display_data"
    },
    {
     "data": {
      "image/png": "[encoded data removed]"
     },
     "metadata": {
      "image/png": {
       "height": 420,
       "width": 420
      }
     },
     "output_type": "display_data"
    }
   ],
   "source": [
    "# tidak normal, juraian atas\n",
    " boxplot(df1s)\n",
    "\n",
    "# abaikan normalitas (soal)\n",
    "t.test(df1s, alternative=\"two\", mu=mu0)\n",
    "\n",
    "# ekstras\n",
    "# lakukan trf (ekstra), log is the most used one tho, maybe.\n",
    "t.test(log(df1s), alternative=\"two\", mu=mean(log(df1)))\n",
    "\n",
    "exp(mean(log(df1s))); exp(mean(log(df1)))"
   ]
  },
  {
   "cell_type": "markdown",
   "id": "8b2e475f",
   "metadata": {
    "papermill": {
     "duration": 0.00725,
     "end_time": "2023-04-26T02:45:13.450488",
     "exception": false,
     "start_time": "2023-04-26T02:45:13.443238",
     "status": "completed"
    },
    "tags": []
   },
   "source": [
    "**Nomor 2**  \n",
    "Masihkah waras terus menerus berkutat dengan data instagram? Ya, masih menggunakan data yang sama, kali ini, kita tertarik dengan banyaknya klaim pada tugas sebelumnya, bahwa variabel follower berkorelasi secara positif dengan variabel like. Kita akan coba buktikan klaim tersebut menggunakan pendekatan yang berbeda. Kita berfokus pada pengguna yang memiliki banyak follower kurang dari 200 orang sebagai sampel. Berdasarkan sampel tersebut, akan kita buktikan klaim bahwa mean like sampel kurang dari mean like populasi.  (Hint: Gunakan klaim yang ingin dibuktikan sebagai hipotesis alternatif)\n",
    "\n",
    "1. Pertama-tama, tentu saja mencari parameter populasi dari variabel like. Pada bagian ini, cukup tampilkan nilai mean variabel like.\n",
    "1. Ambil subset dari data untuk pengguna yang memiliki banyak follower kurang dari 200 orang. Untuk menghindari error, buang observasi dengan like sebanyak nol. Jika langkah yang diambil benar, akan didapat sebanyak 25 observasi, dengan tampilan 6 observasi pertama sebagai berikut:\n",
    "1. Uji apa yang tepat untuk membuktikan klaim tersebut? Berikan justifikasi.\n",
    "1. Lakukan uji tersebut dengan tingkat signifikansi 10%. Jika asumsi tidak terpenuhi, lakukan transformasi dengan Tukey’s Ladder! (Selain coba-coba, nilai λ boleh dicari dengan bantuan fungsi box cox di R)\n",
    "1. Berdasarkan langkah-langkah yang telah dilakukan di atas, hal menarik apa yang dapat anda simpulkan? Elaborasikan dalam satu paragraf singkat."
   ]
  },
  {
   "cell_type": "code",
   "execution_count": null,
   "id": "d75d32fe",
   "metadata": {
    "papermill": {
     "duration": 0.006557,
     "end_time": "2023-04-26T02:45:13.463560",
     "exception": false,
     "start_time": "2023-04-26T02:45:13.457003",
     "status": "completed"
    },
    "tags": []
   },
   "outputs": [],
   "source": []
  }
 ],
 "metadata": {
  "kernelspec": {
   "display_name": "R",
   "language": "R",
   "name": "ir"
  },
  "language_info": {
   "codemirror_mode": "r",
   "file_extension": ".r",
   "mimetype": "text/x-r-source",
   "name": "R",
   "pygments_lexer": "r",
   "version": "4.0.5"
  },
  "papermill": {
   "default_parameters": {},
   "duration": 5.994235,
   "end_time": "2023-04-26T02:45:13.591122",
   "environment_variables": {},
   "exception": null,
   "input_path": "__notebook__.ipynb",
   "output_path": "__notebook__.ipynb",
   "parameters": {},
   "start_time": "2023-04-26T02:45:07.596887",
   "version": "2.3.4"
  }
 },
 "nbformat": 4,
 "nbformat_minor": 5
}
