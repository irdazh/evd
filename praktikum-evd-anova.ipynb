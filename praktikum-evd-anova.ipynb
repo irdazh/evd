{
 "cells": [
  {
   "cell_type": "markdown",
   "id": "ed1887c5",
   "metadata": {
    "_cell_guid": "64721609-1053-459d-a498-89b6e70b73b4",
    "_uuid": "98a2edc2-e160-40c6-8e0c-244fa0612607",
    "papermill": {
     "duration": 0.009376,
     "end_time": "2023-05-10T04:17:42.914020",
     "exception": false,
     "start_time": "2023-05-10T04:17:42.904644",
     "status": "completed"
    },
    "tags": []
   },
   "source": [
    "## ANOVA"
   ]
  },
  {
   "cell_type": "code",
   "execution_count": 1,
   "id": "7e5b0d1e",
   "metadata": {
    "_cell_guid": "fe877d6f-2497-4457-a1c6-4ab728ec0025",
    "_uuid": "96a32c49-f192-47e8-9531-54218fc2295d",
    "collapsed": false,
    "execution": {
     "iopub.execute_input": "2023-05-10T04:17:42.933787Z",
     "iopub.status.busy": "2023-05-10T04:17:42.931663Z",
     "iopub.status.idle": "2023-05-10T04:17:47.356715Z",
     "shell.execute_reply": "2023-05-10T04:17:47.354815Z"
    },
    "jupyter": {
     "outputs_hidden": false
    },
    "papermill": {
     "duration": 4.437366,
     "end_time": "2023-05-10T04:17:47.359388",
     "exception": false,
     "start_time": "2023-05-10T04:17:42.922022",
     "status": "completed"
    },
    "tags": []
   },
   "outputs": [
    {
     "name": "stderr",
     "output_type": "stream",
     "text": [
      "── \u001b[1mAttaching packages\u001b[22m ─────────────────────────────────────── tidyverse 1.3.2 ──\n",
      "\u001b[32m✔\u001b[39m \u001b[34mggplot2\u001b[39m 3.4.0      \u001b[32m✔\u001b[39m \u001b[34mpurrr  \u001b[39m 1.0.1 \n",
      "\u001b[32m✔\u001b[39m \u001b[34mtibble \u001b[39m 3.1.8      \u001b[32m✔\u001b[39m \u001b[34mdplyr  \u001b[39m 1.0.10\n",
      "\u001b[32m✔\u001b[39m \u001b[34mtidyr  \u001b[39m 1.2.1      \u001b[32m✔\u001b[39m \u001b[34mstringr\u001b[39m 1.5.0 \n",
      "\u001b[32m✔\u001b[39m \u001b[34mreadr  \u001b[39m 2.1.3      \u001b[32m✔\u001b[39m \u001b[34mforcats\u001b[39m 0.5.2 \n",
      "── \u001b[1mConflicts\u001b[22m ────────────────────────────────────────── tidyverse_conflicts() ──\n",
      "\u001b[31m✖\u001b[39m \u001b[34mdplyr\u001b[39m::\u001b[32mfilter()\u001b[39m masks \u001b[34mstats\u001b[39m::filter()\n",
      "\u001b[31m✖\u001b[39m \u001b[34mdplyr\u001b[39m::\u001b[32mlag()\u001b[39m    masks \u001b[34mstats\u001b[39m::lag()\n",
      "\n",
      "Attaching package: ‘plotly’\n",
      "\n",
      "\n",
      "The following object is masked from ‘package:ggplot2’:\n",
      "\n",
      "    last_plot\n",
      "\n",
      "\n",
      "The following object is masked from ‘package:stats’:\n",
      "\n",
      "    filter\n",
      "\n",
      "\n",
      "The following object is masked from ‘package:graphics’:\n",
      "\n",
      "    layout\n",
      "\n",
      "\n",
      "The following object is masked from ‘package:httr’:\n",
      "\n",
      "    config\n",
      "\n",
      "\n",
      "Loading required package: lattice\n",
      "\n",
      "\n",
      "Attaching package: ‘BSDA’\n",
      "\n",
      "\n",
      "The following object is masked from ‘package:datasets’:\n",
      "\n",
      "    Orange\n",
      "\n",
      "\n",
      "\n",
      "Attaching package: ‘MASS’\n",
      "\n",
      "\n",
      "The following object is masked from ‘package:plotly’:\n",
      "\n",
      "    select\n",
      "\n",
      "\n",
      "The following object is masked from ‘package:dplyr’:\n",
      "\n",
      "    select\n",
      "\n",
      "\n",
      "Registered S3 method overwritten by 'quantmod':\n",
      "  method            from\n",
      "  as.zoo.data.frame zoo \n",
      "\n",
      "Loading required package: carData\n",
      "\n",
      "\n",
      "Attaching package: ‘carData’\n",
      "\n",
      "\n",
      "The following objects are masked from ‘package:BSDA’:\n",
      "\n",
      "    Vocab, Wool\n",
      "\n",
      "\n",
      "\n",
      "Attaching package: ‘car’\n",
      "\n",
      "\n",
      "The following object is masked from ‘package:dplyr’:\n",
      "\n",
      "    recode\n",
      "\n",
      "\n",
      "The following object is masked from ‘package:purrr’:\n",
      "\n",
      "    some\n",
      "\n",
      "\n"
     ]
    }
   ],
   "source": [
    "library(tidyverse)\n",
    "library(plotly)\n",
    "library(BSDA)\n",
    "library(MASS)\n",
    "library(AID)\n",
    "library(car)"
   ]
  },
  {
   "cell_type": "code",
   "execution_count": 2,
   "id": "d5a9977c",
   "metadata": {
    "execution": {
     "iopub.execute_input": "2023-05-10T04:17:47.415030Z",
     "iopub.status.busy": "2023-05-10T04:17:47.380828Z",
     "iopub.status.idle": "2023-05-10T04:17:47.454592Z",
     "shell.execute_reply": "2023-05-10T04:17:47.452710Z"
    },
    "papermill": {
     "duration": 0.088054,
     "end_time": "2023-05-10T04:17:47.457253",
     "exception": false,
     "start_time": "2023-05-10T04:17:47.369199",
     "status": "completed"
    },
    "tags": []
   },
   "outputs": [
    {
     "data": {
      "text/html": [
       "<table class=\"dataframe\">\n",
       "<caption>A data.frame: 10 × 3</caption>\n",
       "<thead>\n",
       "\t<tr><th scope=col>garam</th><th scope=col>minyak</th><th scope=col>murni</th></tr>\n",
       "\t<tr><th scope=col>&lt;dbl&gt;</th><th scope=col>&lt;dbl&gt;</th><th scope=col>&lt;dbl&gt;</th></tr>\n",
       "</thead>\n",
       "<tbody>\n",
       "\t<tr><td>145</td><td>152</td><td>150</td></tr>\n",
       "\t<tr><td>150</td><td>150</td><td>149</td></tr>\n",
       "\t<tr><td>153</td><td>147</td><td>152</td></tr>\n",
       "\t<tr><td>148</td><td>155</td><td>151</td></tr>\n",
       "\t<tr><td>141</td><td>140</td><td>142</td></tr>\n",
       "\t<tr><td>152</td><td>146</td><td>141</td></tr>\n",
       "\t<tr><td>146</td><td>158</td><td>145</td></tr>\n",
       "\t<tr><td>154</td><td>152</td><td>152</td></tr>\n",
       "\t<tr><td>139</td><td>151</td><td>153</td></tr>\n",
       "\t<tr><td>148</td><td>143</td><td>142</td></tr>\n",
       "</tbody>\n",
       "</table>\n"
      ],
      "text/latex": [
       "A data.frame: 10 × 3\n",
       "\\begin{tabular}{lll}\n",
       " garam & minyak & murni\\\\\n",
       " <dbl> & <dbl> & <dbl>\\\\\n",
       "\\hline\n",
       "\t 145 & 152 & 150\\\\\n",
       "\t 150 & 150 & 149\\\\\n",
       "\t 153 & 147 & 152\\\\\n",
       "\t 148 & 155 & 151\\\\\n",
       "\t 141 & 140 & 142\\\\\n",
       "\t 152 & 146 & 141\\\\\n",
       "\t 146 & 158 & 145\\\\\n",
       "\t 154 & 152 & 152\\\\\n",
       "\t 139 & 151 & 153\\\\\n",
       "\t 148 & 143 & 142\\\\\n",
       "\\end{tabular}\n"
      ],
      "text/markdown": [
       "\n",
       "A data.frame: 10 × 3\n",
       "\n",
       "| garam &lt;dbl&gt; | minyak &lt;dbl&gt; | murni &lt;dbl&gt; |\n",
       "|---|---|---|\n",
       "| 145 | 152 | 150 |\n",
       "| 150 | 150 | 149 |\n",
       "| 153 | 147 | 152 |\n",
       "| 148 | 155 | 151 |\n",
       "| 141 | 140 | 142 |\n",
       "| 152 | 146 | 141 |\n",
       "| 146 | 158 | 145 |\n",
       "| 154 | 152 | 152 |\n",
       "| 139 | 151 | 153 |\n",
       "| 148 | 143 | 142 |\n",
       "\n"
      ],
      "text/plain": [
       "   garam minyak murni\n",
       "1  145   152    150  \n",
       "2  150   150    149  \n",
       "3  153   147    152  \n",
       "4  148   155    151  \n",
       "5  141   140    142  \n",
       "6  152   146    141  \n",
       "7  146   158    145  \n",
       "8  154   152    152  \n",
       "9  139   151    153  \n",
       "10 148   143    142  "
      ]
     },
     "metadata": {},
     "output_type": "display_data"
    }
   ],
   "source": [
    "# Read data\n",
    "df = scan(text=\"145 152 150 150 150 149 153 147 152 148 155 151 141 140 142 152 146 141 146 158 145 154 152 152 139 151 153 148 143 142\")\n",
    "dm = matrix(df, ncol=3, byrow=T)\n",
    "anova = as.data.frame(dm)\n",
    "colnames(anova) = c(\"garam\", \"minyak\", \"murni\")\n",
    "anova"
   ]
  },
  {
   "cell_type": "code",
   "execution_count": 3,
   "id": "05650350",
   "metadata": {
    "execution": {
     "iopub.execute_input": "2023-05-10T04:17:47.480870Z",
     "iopub.status.busy": "2023-05-10T04:17:47.479260Z",
     "iopub.status.idle": "2023-05-10T04:17:47.572508Z",
     "shell.execute_reply": "2023-05-10T04:17:47.570597Z"
    },
    "papermill": {
     "duration": 0.107928,
     "end_time": "2023-05-10T04:17:47.575183",
     "exception": false,
     "start_time": "2023-05-10T04:17:47.467255",
     "status": "completed"
    },
    "tags": []
   },
   "outputs": [
    {
     "data": {
      "text/html": [
       "<table class=\"dataframe\">\n",
       "<caption>A data.frame: 6 × 2</caption>\n",
       "<thead>\n",
       "\t<tr><th></th><th scope=col>jenis.rendaman</th><th scope=col>hasil.pengerasan</th></tr>\n",
       "\t<tr><th></th><th scope=col>&lt;chr&gt;</th><th scope=col>&lt;dbl&gt;</th></tr>\n",
       "</thead>\n",
       "<tbody>\n",
       "\t<tr><th scope=row>1</th><td>garam</td><td>145</td></tr>\n",
       "\t<tr><th scope=row>2</th><td>garam</td><td>150</td></tr>\n",
       "\t<tr><th scope=row>3</th><td>garam</td><td>153</td></tr>\n",
       "\t<tr><th scope=row>4</th><td>garam</td><td>148</td></tr>\n",
       "\t<tr><th scope=row>5</th><td>garam</td><td>141</td></tr>\n",
       "\t<tr><th scope=row>6</th><td>garam</td><td>152</td></tr>\n",
       "</tbody>\n",
       "</table>\n"
      ],
      "text/latex": [
       "A data.frame: 6 × 2\n",
       "\\begin{tabular}{r|ll}\n",
       "  & jenis.rendaman & hasil.pengerasan\\\\\n",
       "  & <chr> & <dbl>\\\\\n",
       "\\hline\n",
       "\t1 & garam & 145\\\\\n",
       "\t2 & garam & 150\\\\\n",
       "\t3 & garam & 153\\\\\n",
       "\t4 & garam & 148\\\\\n",
       "\t5 & garam & 141\\\\\n",
       "\t6 & garam & 152\\\\\n",
       "\\end{tabular}\n"
      ],
      "text/markdown": [
       "\n",
       "A data.frame: 6 × 2\n",
       "\n",
       "| <!--/--> | jenis.rendaman &lt;chr&gt; | hasil.pengerasan &lt;dbl&gt; |\n",
       "|---|---|---|\n",
       "| 1 | garam | 145 |\n",
       "| 2 | garam | 150 |\n",
       "| 3 | garam | 153 |\n",
       "| 4 | garam | 148 |\n",
       "| 5 | garam | 141 |\n",
       "| 6 | garam | 152 |\n",
       "\n"
      ],
      "text/plain": [
       "  jenis.rendaman hasil.pengerasan\n",
       "1 garam          145             \n",
       "2 garam          150             \n",
       "3 garam          153             \n",
       "4 garam          148             \n",
       "5 garam          141             \n",
       "6 garam          152             "
      ]
     },
     "metadata": {},
     "output_type": "display_data"
    },
    {
     "data": {
      "text/html": [
       "<table class=\"dataframe\">\n",
       "<caption>A tibble: 6 × 2</caption>\n",
       "<thead>\n",
       "\t<tr><th scope=col>jenis.rendaman</th><th scope=col>hasil_pengerasan</th></tr>\n",
       "\t<tr><th scope=col>&lt;chr&gt;</th><th scope=col>&lt;dbl&gt;</th></tr>\n",
       "</thead>\n",
       "<tbody>\n",
       "\t<tr><td>garam </td><td>145</td></tr>\n",
       "\t<tr><td>minyak</td><td>152</td></tr>\n",
       "\t<tr><td>murni </td><td>150</td></tr>\n",
       "\t<tr><td>garam </td><td>150</td></tr>\n",
       "\t<tr><td>minyak</td><td>150</td></tr>\n",
       "\t<tr><td>murni </td><td>149</td></tr>\n",
       "</tbody>\n",
       "</table>\n"
      ],
      "text/latex": [
       "A tibble: 6 × 2\n",
       "\\begin{tabular}{ll}\n",
       " jenis.rendaman & hasil\\_pengerasan\\\\\n",
       " <chr> & <dbl>\\\\\n",
       "\\hline\n",
       "\t garam  & 145\\\\\n",
       "\t minyak & 152\\\\\n",
       "\t murni  & 150\\\\\n",
       "\t garam  & 150\\\\\n",
       "\t minyak & 150\\\\\n",
       "\t murni  & 149\\\\\n",
       "\\end{tabular}\n"
      ],
      "text/markdown": [
       "\n",
       "A tibble: 6 × 2\n",
       "\n",
       "| jenis.rendaman &lt;chr&gt; | hasil_pengerasan &lt;dbl&gt; |\n",
       "|---|---|\n",
       "| garam  | 145 |\n",
       "| minyak | 152 |\n",
       "| murni  | 150 |\n",
       "| garam  | 150 |\n",
       "| minyak | 150 |\n",
       "| murni  | 149 |\n",
       "\n"
      ],
      "text/plain": [
       "  jenis.rendaman hasil_pengerasan\n",
       "1 garam          145             \n",
       "2 minyak         152             \n",
       "3 murni          150             \n",
       "4 garam          150             \n",
       "5 minyak         150             \n",
       "6 murni          149             "
      ]
     },
     "metadata": {},
     "output_type": "display_data"
    }
   ],
   "source": [
    "# Transform to long format\n",
    "anova1<-anova%>%\n",
    "    gather(key=\"jenis.rendaman\",value=\"hasil.pengerasan\")\n",
    "head(anova1)\n",
    "\n",
    "# alternative, newer version\n",
    "anova1c = anova %>%\n",
    "    pivot_longer(cols=1:3, names_to=\"jenis.rendaman\", values_to=\"hasil_pengerasan\")\n",
    "head(anova1c)"
   ]
  },
  {
   "cell_type": "code",
   "execution_count": 4,
   "id": "8cf997bb",
   "metadata": {
    "execution": {
     "iopub.execute_input": "2023-05-10T04:17:47.599949Z",
     "iopub.status.busy": "2023-05-10T04:17:47.598352Z",
     "iopub.status.idle": "2023-05-10T04:17:47.897181Z",
     "shell.execute_reply": "2023-05-10T04:17:47.894228Z"
    },
    "papermill": {
     "duration": 0.31463,
     "end_time": "2023-05-10T04:17:47.900418",
     "exception": false,
     "start_time": "2023-05-10T04:17:47.585788",
     "status": "completed"
    },
    "tags": []
   },
   "outputs": [
    {
     "data": {
      "image/png": "[encoded data removed]"
     },
     "metadata": {
      "image/png": {
       "height": 420,
       "width": 420
      }
     },
     "output_type": "display_data"
    }
   ],
   "source": [
    "#Cek asumsi\n",
    "#1. Normalitas data\n",
    "cek_nor<-boxplot(anova[1:3],col=c(\"green\",\"yellow\",\"pink\"),\n",
    "                 border=\"blue\",\n",
    "                 xlab=\"jenis rendaman\",\n",
    "                 ylab=\"satuan tertentu\",\n",
    "                 main=\"Cek Normalitas\")\n"
   ]
  },
  {
   "cell_type": "code",
   "execution_count": 5,
   "id": "bd18c54e",
   "metadata": {
    "execution": {
     "iopub.execute_input": "2023-05-10T04:17:47.927953Z",
     "iopub.status.busy": "2023-05-10T04:17:47.926246Z",
     "iopub.status.idle": "2023-05-10T04:17:50.899207Z",
     "shell.execute_reply": "2023-05-10T04:17:50.896661Z"
    },
    "papermill": {
     "duration": 2.990903,
     "end_time": "2023-05-10T04:17:50.902566",
     "exception": false,
     "start_time": "2023-05-10T04:17:47.911663",
     "status": "completed"
    },
    "tags": []
   },
   "outputs": [
    {
     "data": {
      "text/html": [
       "4.638"
      ],
      "text/latex": [
       "4.638"
      ],
      "text/markdown": [
       "4.638"
      ],
      "text/plain": [
       "[1] 4.638"
      ]
     },
     "metadata": {},
     "output_type": "display_data"
    },
    {
     "data": {
      "text/html": [
       "4.6382"
      ],
      "text/latex": [
       "4.6382"
      ],
      "text/markdown": [
       "4.6382"
      ],
      "text/plain": [
       "[1] 4.6382"
      ]
     },
     "metadata": {},
     "output_type": "display_data"
    },
    {
     "data": {
      "text/html": [
       "<strong>anova1$hasil.pengerasan:</strong> 4.63820202732546"
      ],
      "text/latex": [
       "\\textbf{anova1\\textbackslash{}\\$hasil.pengerasan:} 4.63820202732546"
      ],
      "text/markdown": [
       "**anova1$hasil.pengerasan:** 4.63820202732546"
      ],
      "text/plain": [
       "anova1$hasil.pengerasan \n",
       "               4.638202 "
      ]
     },
     "metadata": {},
     "output_type": "display_data"
    }
   ],
   "source": [
    "\n",
    "#Transformasi Data\n",
    "#1. Transformasi Box-cox dengan library AID\n",
    "out = boxcoxnc(anova1$hasil.pengerasan, method = \"mle\", \n",
    "               lambda = seq(-5,5,0.001), verbose = F, plot = F)\n",
    "out$lambda.hat\n",
    "\n",
    "#2. Transformasi Box-cox dengan library MASS\n",
    "out = boxcox(anova1$hasil.pengerasan~1, lambda = seq(-5,5,0.0001), plotit = F)\n",
    "out$x[which.max(out$y)]\n",
    "\n",
    "#3.Transformasi Box-cox dengan library car\n",
    "out = powerTransform(anova1$hasil.pengerasan, family = \"bcPower\")\n",
    "out$lambda\n"
   ]
  },
  {
   "cell_type": "code",
   "execution_count": 6,
   "id": "df4e69ef",
   "metadata": {
    "execution": {
     "iopub.execute_input": "2023-05-10T04:17:50.929584Z",
     "iopub.status.busy": "2023-05-10T04:17:50.927918Z",
     "iopub.status.idle": "2023-05-10T04:17:50.975128Z",
     "shell.execute_reply": "2023-05-10T04:17:50.973281Z"
    },
    "papermill": {
     "duration": 0.063329,
     "end_time": "2023-05-10T04:17:50.977659",
     "exception": false,
     "start_time": "2023-05-10T04:17:50.914330",
     "status": "completed"
    },
    "tags": []
   },
   "outputs": [],
   "source": [
    "#setiap datum dipangkatkan dengan 5\n",
    "transformasi.bc=function(data, lambda){\n",
    "  for(i in 1:length(data)){\n",
    "    data[i]=data[i]^lambda\n",
    "  }\n",
    "  return(data)\n",
    "}\n",
    "\n",
    "#data hasil transformasi, then, buang data asli\n",
    "anova2=anova1 %>% \n",
    "  mutate(transformasi=transformasi.bc(anova1$hasil.pengerasan,5))%>%\n",
    "  dplyr::select(-hasil.pengerasan)\n",
    "\n",
    "\n",
    "# nah, no need fungsi\n",
    "anova2=anova1 %>% \n",
    "  mutate(transformasi=hasil.pengerasan^5)%>%\n",
    "  dplyr::select(-hasil.pengerasan)"
   ]
  },
  {
   "cell_type": "code",
   "execution_count": 7,
   "id": "e01be4b1",
   "metadata": {
    "execution": {
     "iopub.execute_input": "2023-05-10T04:17:51.006433Z",
     "iopub.status.busy": "2023-05-10T04:17:51.004735Z",
     "iopub.status.idle": "2023-05-10T04:17:51.498282Z",
     "shell.execute_reply": "2023-05-10T04:17:51.496235Z"
    },
    "papermill": {
     "duration": 0.511051,
     "end_time": "2023-05-10T04:17:51.500950",
     "exception": false,
     "start_time": "2023-05-10T04:17:50.989899",
     "status": "completed"
    },
    "tags": []
   },
   "outputs": [
    {
     "data": {
      "image/png": "[encoded data removed]"
     },
     "metadata": {
      "image/png": {
       "height": 420,
       "width": 420
      }
     },
     "output_type": "display_data"
    }
   ],
   "source": [
    "\n",
    "#cek normalitas setelah data ditransformasi\n",
    "cek_norm1<-ggplot(anova2, aes(x=jenis.rendaman,y=transformasi))+\n",
    "  geom_boxplot(fill=\"blue\",color=\"pink\")+\n",
    "  ggtitle(\"Cek Normalitas\")+\n",
    "  xlab(\"Jenis Rendaman\")+\n",
    "  ylab(\"Satuan tertentu\")\n",
    "\n",
    "cek_norm1"
   ]
  },
  {
   "cell_type": "code",
   "execution_count": 8,
   "id": "d5dad003",
   "metadata": {
    "execution": {
     "iopub.execute_input": "2023-05-10T04:17:51.530175Z",
     "iopub.status.busy": "2023-05-10T04:17:51.528451Z",
     "iopub.status.idle": "2023-05-10T04:17:51.560663Z",
     "shell.execute_reply": "2023-05-10T04:17:51.558740Z"
    },
    "papermill": {
     "duration": 0.049623,
     "end_time": "2023-05-10T04:17:51.563242",
     "exception": false,
     "start_time": "2023-05-10T04:17:51.513619",
     "status": "completed"
    },
    "tags": []
   },
   "outputs": [
    {
     "data": {
      "text/html": [
       "FALSE"
      ],
      "text/latex": [
       "FALSE"
      ],
      "text/markdown": [
       "FALSE"
      ],
      "text/plain": [
       "[1] FALSE"
      ]
     },
     "metadata": {},
     "output_type": "display_data"
    }
   ],
   "source": [
    "#2. Asumsi Kesamaan Variansi\n",
    "cek_var<-anova2 %>% \n",
    "  group_by(jenis.rendaman) %>% \n",
    "  summarise(var(transformasi))\n",
    "\n",
    "#jika var tertinggi > 3 variansi rendah, maka terjadi heterogenitas variansi\n",
    "max(cek_var$`var(transformasi)`) > 3*min(cek_var$`var(transformasi)`)\n"
   ]
  },
  {
   "cell_type": "code",
   "execution_count": 9,
   "id": "23901bf7",
   "metadata": {
    "execution": {
     "iopub.execute_input": "2023-05-10T04:17:51.592300Z",
     "iopub.status.busy": "2023-05-10T04:17:51.590608Z",
     "iopub.status.idle": "2023-05-10T04:17:51.630516Z",
     "shell.execute_reply": "2023-05-10T04:17:51.628508Z"
    },
    "papermill": {
     "duration": 0.057251,
     "end_time": "2023-05-10T04:17:51.633218",
     "exception": false,
     "start_time": "2023-05-10T04:17:51.575967",
     "status": "completed"
    },
    "tags": []
   },
   "outputs": [
    {
     "data": {
      "text/plain": [
       "Call:\n",
       "   aov(formula = transformasi ~ jenis.rendaman, data = anova2)\n",
       "\n",
       "Terms:\n",
       "                jenis.rendaman    Residuals\n",
       "Sum of Squares    1.336832e+20 3.936908e+21\n",
       "Deg. of Freedom              2           27\n",
       "\n",
       "Residual standard error: 12075239226\n",
       "Estimated effects may be unbalanced"
      ]
     },
     "metadata": {},
     "output_type": "display_data"
    },
    {
     "data": {
      "text/plain": [
       "               Df    Sum Sq   Mean Sq F value Pr(>F)\n",
       "jenis.rendaman  2 1.337e+20 6.684e+19   0.458  0.637\n",
       "Residuals      27 3.937e+21 1.458e+20               "
      ]
     },
     "metadata": {},
     "output_type": "display_data"
    },
    {
     "data": {
      "text/html": [
       "3.3541308285292"
      ],
      "text/latex": [
       "3.3541308285292"
      ],
      "text/markdown": [
       "3.3541308285292"
      ],
      "text/plain": [
       "[1] 3.354131"
      ]
     },
     "metadata": {},
     "output_type": "display_data"
    }
   ],
   "source": [
    "#Uji Anova\n",
    "anova3<-aov(transformasi~jenis.rendaman,data=anova2)\n",
    "anova3\n",
    "\n",
    "summary(anova3)\n",
    "\n",
    "#F tabel\n",
    "qf(0.95,2,27)"
   ]
  },
  {
   "cell_type": "markdown",
   "id": "1cbf2c45",
   "metadata": {
    "papermill": {
     "duration": 0.013193,
     "end_time": "2023-05-10T04:17:51.659717",
     "exception": false,
     "start_time": "2023-05-10T04:17:51.646524",
     "status": "completed"
    },
    "tags": []
   },
   "source": [
    "### Latihan Soal"
   ]
  },
  {
   "cell_type": "markdown",
   "id": "cd6ee88b",
   "metadata": {
    "papermill": {
     "duration": 0.013088,
     "end_time": "2023-05-10T04:17:51.685862",
     "exception": false,
     "start_time": "2023-05-10T04:17:51.672774",
     "status": "completed"
    },
    "tags": []
   },
   "source": [
    "### No. 1"
   ]
  },
  {
   "cell_type": "code",
   "execution_count": 10,
   "id": "2218f39a",
   "metadata": {
    "execution": {
     "iopub.execute_input": "2023-05-10T04:17:51.716039Z",
     "iopub.status.busy": "2023-05-10T04:17:51.714246Z",
     "iopub.status.idle": "2023-05-10T04:17:51.746009Z",
     "shell.execute_reply": "2023-05-10T04:17:51.744035Z"
    },
    "papermill": {
     "duration": 0.049485,
     "end_time": "2023-05-10T04:17:51.748579",
     "exception": false,
     "start_time": "2023-05-10T04:17:51.699094",
     "status": "completed"
    },
    "tags": []
   },
   "outputs": [
    {
     "data": {
      "text/html": [
       "<table class=\"dataframe\">\n",
       "<caption>A data.frame: 5 × 3</caption>\n",
       "<thead>\n",
       "\t<tr><th scope=col>tanpa</th><th scope=col>ringan</th><th scope=col>full</th></tr>\n",
       "\t<tr><th scope=col>&lt;dbl&gt;</th><th scope=col>&lt;dbl&gt;</th><th scope=col>&lt;dbl&gt;</th></tr>\n",
       "</thead>\n",
       "<tbody>\n",
       "\t<tr><td> 8</td><td>14</td><td>10</td></tr>\n",
       "\t<tr><td> 7</td><td>16</td><td>12</td></tr>\n",
       "\t<tr><td> 9</td><td>12</td><td>16</td></tr>\n",
       "\t<tr><td>13</td><td>17</td><td>15</td></tr>\n",
       "\t<tr><td>10</td><td>11</td><td>12</td></tr>\n",
       "</tbody>\n",
       "</table>\n"
      ],
      "text/latex": [
       "A data.frame: 5 × 3\n",
       "\\begin{tabular}{lll}\n",
       " tanpa & ringan & full\\\\\n",
       " <dbl> & <dbl> & <dbl>\\\\\n",
       "\\hline\n",
       "\t  8 & 14 & 10\\\\\n",
       "\t  7 & 16 & 12\\\\\n",
       "\t  9 & 12 & 16\\\\\n",
       "\t 13 & 17 & 15\\\\\n",
       "\t 10 & 11 & 12\\\\\n",
       "\\end{tabular}\n"
      ],
      "text/markdown": [
       "\n",
       "A data.frame: 5 × 3\n",
       "\n",
       "| tanpa &lt;dbl&gt; | ringan &lt;dbl&gt; | full &lt;dbl&gt; |\n",
       "|---|---|---|\n",
       "|  8 | 14 | 10 |\n",
       "|  7 | 16 | 12 |\n",
       "|  9 | 12 | 16 |\n",
       "| 13 | 17 | 15 |\n",
       "| 10 | 11 | 12 |\n",
       "\n"
      ],
      "text/plain": [
       "  tanpa ringan full\n",
       "1  8    14     10  \n",
       "2  7    16     12  \n",
       "3  9    12     16  \n",
       "4 13    17     15  \n",
       "5 10    11     12  "
      ]
     },
     "metadata": {},
     "output_type": "display_data"
    }
   ],
   "source": [
    "# nomor 1\n",
    "df1 = scan(text=\"8 14 10 7 16 12 9 12 16 13 17 15 10 11 12\")\n",
    "df1 = as.data.frame(matrix(df1, ncol=3, byrow=T))\n",
    "colnames(df1) = c(\"tanpa\", \"ringan\", \"full\")\n",
    "df1"
   ]
  },
  {
   "cell_type": "code",
   "execution_count": 11,
   "id": "24e9abfd",
   "metadata": {
    "execution": {
     "iopub.execute_input": "2023-05-10T04:17:51.778757Z",
     "iopub.status.busy": "2023-05-10T04:17:51.777076Z",
     "iopub.status.idle": "2023-05-10T04:17:51.907308Z",
     "shell.execute_reply": "2023-05-10T04:17:51.905372Z"
    },
    "papermill": {
     "duration": 0.148029,
     "end_time": "2023-05-10T04:17:51.909843",
     "exception": false,
     "start_time": "2023-05-10T04:17:51.761814",
     "status": "completed"
    },
    "tags": []
   },
   "outputs": [
    {
     "data": {
      "text/html": [
       "<table class=\"dataframe\">\n",
       "<caption>A tibble: 6 × 2</caption>\n",
       "<thead>\n",
       "\t<tr><th scope=col>sarapan</th><th scope=col>waktu</th></tr>\n",
       "\t<tr><th scope=col>&lt;chr&gt;</th><th scope=col>&lt;dbl&gt;</th></tr>\n",
       "</thead>\n",
       "<tbody>\n",
       "\t<tr><td>tanpa </td><td> 8</td></tr>\n",
       "\t<tr><td>ringan</td><td>14</td></tr>\n",
       "\t<tr><td>full  </td><td>10</td></tr>\n",
       "\t<tr><td>tanpa </td><td> 7</td></tr>\n",
       "\t<tr><td>ringan</td><td>16</td></tr>\n",
       "\t<tr><td>full  </td><td>12</td></tr>\n",
       "</tbody>\n",
       "</table>\n"
      ],
      "text/latex": [
       "A tibble: 6 × 2\n",
       "\\begin{tabular}{ll}\n",
       " sarapan & waktu\\\\\n",
       " <chr> & <dbl>\\\\\n",
       "\\hline\n",
       "\t tanpa  &  8\\\\\n",
       "\t ringan & 14\\\\\n",
       "\t full   & 10\\\\\n",
       "\t tanpa  &  7\\\\\n",
       "\t ringan & 16\\\\\n",
       "\t full   & 12\\\\\n",
       "\\end{tabular}\n"
      ],
      "text/markdown": [
       "\n",
       "A tibble: 6 × 2\n",
       "\n",
       "| sarapan &lt;chr&gt; | waktu &lt;dbl&gt; |\n",
       "|---|---|\n",
       "| tanpa  |  8 |\n",
       "| ringan | 14 |\n",
       "| full   | 10 |\n",
       "| tanpa  |  7 |\n",
       "| ringan | 16 |\n",
       "| full   | 12 |\n",
       "\n"
      ],
      "text/plain": [
       "  sarapan waktu\n",
       "1 tanpa    8   \n",
       "2 ringan  14   \n",
       "3 full    10   \n",
       "4 tanpa    7   \n",
       "5 ringan  16   \n",
       "6 full    12   "
      ]
     },
     "metadata": {},
     "output_type": "display_data"
    },
    {
     "data": {
      "text/html": [
       "<table class=\"dataframe\">\n",
       "<caption>A tibble: 3 × 2</caption>\n",
       "<thead>\n",
       "\t<tr><th scope=col>sarapan</th><th scope=col>var</th></tr>\n",
       "\t<tr><th scope=col>&lt;chr&gt;</th><th scope=col>&lt;dbl&gt;</th></tr>\n",
       "</thead>\n",
       "<tbody>\n",
       "\t<tr><td>full  </td><td>6.0</td></tr>\n",
       "\t<tr><td>ringan</td><td>6.5</td></tr>\n",
       "\t<tr><td>tanpa </td><td>5.3</td></tr>\n",
       "</tbody>\n",
       "</table>\n"
      ],
      "text/latex": [
       "A tibble: 3 × 2\n",
       "\\begin{tabular}{ll}\n",
       " sarapan & var\\\\\n",
       " <chr> & <dbl>\\\\\n",
       "\\hline\n",
       "\t full   & 6.0\\\\\n",
       "\t ringan & 6.5\\\\\n",
       "\t tanpa  & 5.3\\\\\n",
       "\\end{tabular}\n"
      ],
      "text/markdown": [
       "\n",
       "A tibble: 3 × 2\n",
       "\n",
       "| sarapan &lt;chr&gt; | var &lt;dbl&gt; |\n",
       "|---|---|\n",
       "| full   | 6.0 |\n",
       "| ringan | 6.5 |\n",
       "| tanpa  | 5.3 |\n",
       "\n"
      ],
      "text/plain": [
       "  sarapan var\n",
       "1 full    6.0\n",
       "2 ringan  6.5\n",
       "3 tanpa   5.3"
      ]
     },
     "metadata": {},
     "output_type": "display_data"
    },
    {
     "data": {
      "image/png": "[encoded data removed]"
     },
     "metadata": {
      "image/png": {
       "height": 420,
       "width": 420
      }
     },
     "output_type": "display_data"
    }
   ],
   "source": [
    "# Uji Asumsi\n",
    "# to longer, df1\n",
    "df1L = pivot_longer(df1, cols=1:3, names_to=\"sarapan\", values_to=\"waktu\")\n",
    "head(df1L)\n",
    "\n",
    "# boxplot: jurai bawah, normal, atas: well kinda normal\n",
    "# sebarannya juga lumayan mirip\n",
    "boxplot(waktu~sarapan, df1L, col=\"white\", border=\"blue\")\n",
    "\n",
    "# variansi, aman juga\n",
    "df1L %>% group_by(sarapan) %>% summarise(var = var(waktu))\n"
   ]
  },
  {
   "cell_type": "code",
   "execution_count": 12,
   "id": "243c03ee",
   "metadata": {
    "execution": {
     "iopub.execute_input": "2023-05-10T04:17:51.955276Z",
     "iopub.status.busy": "2023-05-10T04:17:51.953573Z",
     "iopub.status.idle": "2023-05-10T04:17:52.758903Z",
     "shell.execute_reply": "2023-05-10T04:17:52.756750Z"
    },
    "papermill": {
     "duration": 0.83768,
     "end_time": "2023-05-10T04:17:52.762047",
     "exception": false,
     "start_time": "2023-05-10T04:17:51.924367",
     "status": "completed"
    },
    "tags": []
   },
   "outputs": [
    {
     "name": "stdout",
     "output_type": "stream",
     "text": [
      "\n",
      "  Box-Cox power transformation \n",
      "--------------------------------------------------------------------- \n",
      "\n",
      "  lambda.hat : 0.32 \n",
      "\n",
      "\n",
      "  Shapiro-Wilk normality test for transformed data (alpha = 0.05)\n",
      "------------------------------------------------------------------- \n",
      "   Level statistic   p.value Normality\n",
      "1   full 0.9291860 0.5908305       YES\n",
      "2 ringan 0.9434194 0.6902038       YES\n",
      "3  tanpa 0.9689777 0.8686525       YES\n",
      "\n",
      "\n",
      "  Bartlett's homogeneity test for transformed data (alpha = 0.05)\n",
      "------------------------------------------------------------------- \n",
      "  Level  statistic   p.value Homogeneity\n",
      "1   All 0.07865173 0.9614374         YES\n",
      "--------------------------------------------------------------------- \n",
      "\n"
     ]
    },
    {
     "data": {
      "text/html": [
       "0.3"
      ],
      "text/latex": [
       "0.3"
      ],
      "text/markdown": [
       "0.3"
      ],
      "text/plain": [
       "[1] 0.3"
      ]
     },
     "metadata": {},
     "output_type": "display_data"
    },
    {
     "name": "stdout",
     "output_type": "stream",
     "text": [
      "\n",
      "  Box-Cox power transformation \n",
      "------------------------------------------------------------------- \n",
      "\n",
      "  lambda.hat : 0.73 \n",
      "\n",
      "\n",
      "  Shapiro-Wilk normality test for transformed data (alpha = 0.05)\n",
      "------------------------------------------------------------------- \n",
      "\n",
      "  statistic  : 0.9674354 \n",
      "  p.value    : 0.8184276 \n",
      "\n",
      "  Result     : Transformed data are normal. \n",
      "------------------------------------------------------------------- \n",
      "\n"
     ]
    },
    {
     "data": {
      "text/html": [
       "0.8"
      ],
      "text/latex": [
       "0.8"
      ],
      "text/markdown": [
       "0.8"
      ],
      "text/plain": [
       "[1] 0.8"
      ]
     },
     "metadata": {},
     "output_type": "display_data"
    },
    {
     "data": {
      "image/png": "[encoded data removed]"
     },
     "metadata": {
      "image/png": {
       "height": 420,
       "width": 420
      }
     },
     "output_type": "display_data"
    }
   ],
   "source": [
    "# Transformasi khusus ANOVA, kalau mau\n",
    "# Perlukah transformasi? AID::boxcoxfr dan MASS::boxcox\n",
    "\n",
    "# banyak angkatan 0.3an, untuk anova, pakai ini.\n",
    "boxcoxfr(df1L$waktu, df1L$sarapan)\n",
    "\n",
    "bc = boxcox(waktu~sarapan, data=df1L, plot=F)\n",
    "bc$x[which.max(bc$y)]\n",
    "\n",
    "# dijadikan 1, 0.7an\n",
    "boxcoxnc(df1L$waktu)\n",
    "\n",
    "bc = boxcox(waktu~1, data=df1L, plot=F)\n",
    "bc$x[which.max(bc$y)]\n",
    "\n",
    "\n",
    "# transformasi akar.\n",
    "# namun, tidak dilakukan karena data yang sangat sedikit."
   ]
  },
  {
   "cell_type": "code",
   "execution_count": 13,
   "id": "908f998d",
   "metadata": {
    "execution": {
     "iopub.execute_input": "2023-05-10T04:17:52.799880Z",
     "iopub.status.busy": "2023-05-10T04:17:52.798105Z",
     "iopub.status.idle": "2023-05-10T04:17:52.831899Z",
     "shell.execute_reply": "2023-05-10T04:17:52.829879Z"
    },
    "papermill": {
     "duration": 0.05554,
     "end_time": "2023-05-10T04:17:52.834629",
     "exception": false,
     "start_time": "2023-05-10T04:17:52.779089",
     "status": "completed"
    },
    "tags": []
   },
   "outputs": [
    {
     "data": {
      "text/plain": [
       "            Df Sum Sq Mean Sq F value Pr(>F)  \n",
       "sarapan      2  58.53  29.267   4.933 0.0273 *\n",
       "Residuals   12  71.20   5.933                 \n",
       "---\n",
       "Signif. codes:  0 ‘***’ 0.001 ‘**’ 0.01 ‘*’ 0.05 ‘.’ 0.1 ‘ ’ 1"
      ]
     },
     "metadata": {},
     "output_type": "display_data"
    },
    {
     "data": {
      "text/html": [
       "3.3541308285292"
      ],
      "text/latex": [
       "3.3541308285292"
      ],
      "text/markdown": [
       "3.3541308285292"
      ],
      "text/plain": [
       "[1] 3.354131"
      ]
     },
     "metadata": {},
     "output_type": "display_data"
    }
   ],
   "source": [
    "# Uji Anova\n",
    "aov1 = aov(waktu~sarapan, data=df1L)\n",
    "\n",
    "# waw, signifikan\n",
    "summary(aov1)\n",
    "\n",
    "# F tabel\n",
    "qf(0.95,2,27)\n"
   ]
  },
  {
   "cell_type": "code",
   "execution_count": 14,
   "id": "c8811137",
   "metadata": {
    "execution": {
     "iopub.execute_input": "2023-05-10T04:17:52.871636Z",
     "iopub.status.busy": "2023-05-10T04:17:52.869957Z",
     "iopub.status.idle": "2023-05-10T04:17:53.068981Z",
     "shell.execute_reply": "2023-05-10T04:17:53.066700Z"
    },
    "papermill": {
     "duration": 0.220259,
     "end_time": "2023-05-10T04:17:53.071669",
     "exception": false,
     "start_time": "2023-05-10T04:17:52.851410",
     "status": "completed"
    },
    "tags": []
   },
   "outputs": [
    {
     "name": "stderr",
     "output_type": "stream",
     "text": [
      "\n",
      "Attaching package: ‘gplots’\n",
      "\n",
      "\n",
      "The following object is masked from ‘package:stats’:\n",
      "\n",
      "    lowess\n",
      "\n",
      "\n"
     ]
    },
    {
     "data": {
      "image/png": "[encoded data removed]"
     },
     "metadata": {
      "image/png": {
       "height": 420,
       "width": 420
      }
     },
     "output_type": "display_data"
    }
   ],
   "source": [
    "# Extras, posthoc test\n",
    "# Viz\n",
    "library(gplots)\n",
    "plotmeans(waktu~sarapan, df1L)"
   ]
  },
  {
   "cell_type": "code",
   "execution_count": 15,
   "id": "d74a3265",
   "metadata": {
    "execution": {
     "iopub.execute_input": "2023-05-10T04:17:53.111306Z",
     "iopub.status.busy": "2023-05-10T04:17:53.109538Z",
     "iopub.status.idle": "2023-05-10T04:17:53.214548Z",
     "shell.execute_reply": "2023-05-10T04:17:53.212604Z"
    },
    "papermill": {
     "duration": 0.127006,
     "end_time": "2023-05-10T04:17:53.217042",
     "exception": false,
     "start_time": "2023-05-10T04:17:53.090036",
     "status": "completed"
    },
    "tags": []
   },
   "outputs": [
    {
     "data": {
      "text/plain": [
       "  Tukey multiple comparisons of means\n",
       "    95% family-wise confidence level\n",
       "\n",
       "Fit: aov(formula = waktu ~ sarapan, data = df1L)\n",
       "\n",
       "$sarapan\n",
       "             diff       lwr        upr     p adj\n",
       "ringan-full   1.0 -3.110011  5.1100111 0.7963670\n",
       "tanpa-full   -3.6 -7.710011  0.5100111 0.0886624\n",
       "tanpa-ringan -4.6 -8.710011 -0.4899889 0.0284289\n"
      ]
     },
     "metadata": {},
     "output_type": "display_data"
    },
    {
     "data": {
      "text/plain": [
       "\n",
       "\tPairwise comparisons using t tests with pooled SD \n",
       "\n",
       "data:  df1L$waktu and df1L$sarapan \n",
       "\n",
       "       full  ringan\n",
       "ringan 0.528 -     \n",
       "tanpa  0.075 0.034 \n",
       "\n",
       "P value adjustment method: holm "
      ]
     },
     "metadata": {},
     "output_type": "display_data"
    },
    {
     "data": {
      "image/png": "[encoded data removed]"
     },
     "metadata": {
      "image/png": {
       "height": 420,
       "width": 420
      }
     },
     "output_type": "display_data"
    }
   ],
   "source": [
    "# seluruh pasang, reference (placebo), DIY \n",
    "# Tukey HSD, Dunnet, Bonferroni correction\n",
    "hsd1 = TukeyHSD(aov1)\n",
    "hsd1; plot(hsd1)\n",
    "\n",
    "pairwise.t.test(x=df1L$waktu, df1L$sarapan,\"holm\")"
   ]
  },
  {
   "cell_type": "markdown",
   "id": "3111ec5c",
   "metadata": {
    "papermill": {
     "duration": 0.018791,
     "end_time": "2023-05-10T04:17:53.254669",
     "exception": false,
     "start_time": "2023-05-10T04:17:53.235878",
     "status": "completed"
    },
    "tags": []
   },
   "source": [
    "### No. 2"
   ]
  },
  {
   "cell_type": "code",
   "execution_count": 16,
   "id": "0528a043",
   "metadata": {
    "execution": {
     "iopub.execute_input": "2023-05-10T04:17:53.296607Z",
     "iopub.status.busy": "2023-05-10T04:17:53.294777Z",
     "iopub.status.idle": "2023-05-10T04:17:53.339909Z",
     "shell.execute_reply": "2023-05-10T04:17:53.337646Z"
    },
    "papermill": {
     "duration": 0.068716,
     "end_time": "2023-05-10T04:17:53.342532",
     "exception": false,
     "start_time": "2023-05-10T04:17:53.273816",
     "status": "completed"
    },
    "tags": []
   },
   "outputs": [
    {
     "data": {
      "text/html": [
       "<table class=\"dataframe\">\n",
       "<caption>A data.frame: 6 × 3</caption>\n",
       "<thead>\n",
       "\t<tr><th></th><th scope=col>A</th><th scope=col>B</th><th scope=col>C</th></tr>\n",
       "\t<tr><th></th><th scope=col>&lt;dbl&gt;</th><th scope=col>&lt;dbl&gt;</th><th scope=col>&lt;dbl&gt;</th></tr>\n",
       "</thead>\n",
       "<tbody>\n",
       "\t<tr><th scope=row>1</th><td>78</td><td>82</td><td>75</td></tr>\n",
       "\t<tr><th scope=row>2</th><td>85</td><td>88</td><td>77</td></tr>\n",
       "\t<tr><th scope=row>3</th><td>90</td><td>92</td><td>70</td></tr>\n",
       "\t<tr><th scope=row>4</th><td>72</td><td>85</td><td>68</td></tr>\n",
       "\t<tr><th scope=row>5</th><td>88</td><td>87</td><td>76</td></tr>\n",
       "\t<tr><th scope=row>6</th><td>82</td><td>91</td><td>78</td></tr>\n",
       "</tbody>\n",
       "</table>\n"
      ],
      "text/latex": [
       "A data.frame: 6 × 3\n",
       "\\begin{tabular}{r|lll}\n",
       "  & A & B & C\\\\\n",
       "  & <dbl> & <dbl> & <dbl>\\\\\n",
       "\\hline\n",
       "\t1 & 78 & 82 & 75\\\\\n",
       "\t2 & 85 & 88 & 77\\\\\n",
       "\t3 & 90 & 92 & 70\\\\\n",
       "\t4 & 72 & 85 & 68\\\\\n",
       "\t5 & 88 & 87 & 76\\\\\n",
       "\t6 & 82 & 91 & 78\\\\\n",
       "\\end{tabular}\n"
      ],
      "text/markdown": [
       "\n",
       "A data.frame: 6 × 3\n",
       "\n",
       "| <!--/--> | A &lt;dbl&gt; | B &lt;dbl&gt; | C &lt;dbl&gt; |\n",
       "|---|---|---|---|\n",
       "| 1 | 78 | 82 | 75 |\n",
       "| 2 | 85 | 88 | 77 |\n",
       "| 3 | 90 | 92 | 70 |\n",
       "| 4 | 72 | 85 | 68 |\n",
       "| 5 | 88 | 87 | 76 |\n",
       "| 6 | 82 | 91 | 78 |\n",
       "\n"
      ],
      "text/plain": [
       "  A  B  C \n",
       "1 78 82 75\n",
       "2 85 88 77\n",
       "3 90 92 70\n",
       "4 72 85 68\n",
       "5 88 87 76\n",
       "6 82 91 78"
      ]
     },
     "metadata": {},
     "output_type": "display_data"
    },
    {
     "name": "stdout",
     "output_type": "stream",
     "text": [
      "'data.frame':\t31 obs. of  3 variables:\n",
      " $ A: num  78 85 90 72 88 82 76 80 79 83 ...\n",
      " $ B: num  82 88 92 85 87 91 86 89 83 84 ...\n",
      " $ C: num  75 77 70 68 76 78 73 74 72 79 ...\n"
     ]
    }
   ],
   "source": [
    "# Nomor 2\n",
    "df2 = scan(text=\"78 82 75 85 88 77 90 92 70 72 85 68 88 87 76 82 91 78 76 86 73 80 89 74 \n",
    "79 83 72 83 84 79 75 90 71 77 85 75 86 88 72 89 84 78 81 86 73 74 82 77 87 87 75 84 83 80 80 85 76 76 89 73 75 87 72 73 \n",
    "90 74 85 88 75 88 83 71 82 89 78 79 85 73 80 87 76 87 92 75 83 84 79 76 86 77 78 88 80\")\n",
    "\n",
    "df2 = as.data.frame(matrix(df2, ncol=3, byrow=T))\n",
    "colnames(df2) = c(\"A\", \"B\", \"C\")\n",
    "\n",
    "head(df2)\n",
    "str(df2)"
   ]
  },
  {
   "cell_type": "code",
   "execution_count": 17,
   "id": "81caba43",
   "metadata": {
    "execution": {
     "iopub.execute_input": "2023-05-10T04:17:53.384627Z",
     "iopub.status.busy": "2023-05-10T04:17:53.382784Z",
     "iopub.status.idle": "2023-05-10T04:17:53.553992Z",
     "shell.execute_reply": "2023-05-10T04:17:53.552087Z"
    },
    "papermill": {
     "duration": 0.195124,
     "end_time": "2023-05-10T04:17:53.556577",
     "exception": false,
     "start_time": "2023-05-10T04:17:53.361453",
     "status": "completed"
    },
    "tags": []
   },
   "outputs": [
    {
     "data": {
      "text/html": [
       "<table class=\"dataframe\">\n",
       "<caption>A tibble: 6 × 2</caption>\n",
       "<thead>\n",
       "\t<tr><th scope=col>sekolah</th><th scope=col>nilai</th></tr>\n",
       "\t<tr><th scope=col>&lt;chr&gt;</th><th scope=col>&lt;dbl&gt;</th></tr>\n",
       "</thead>\n",
       "<tbody>\n",
       "\t<tr><td>A</td><td>78</td></tr>\n",
       "\t<tr><td>B</td><td>82</td></tr>\n",
       "\t<tr><td>C</td><td>75</td></tr>\n",
       "\t<tr><td>A</td><td>85</td></tr>\n",
       "\t<tr><td>B</td><td>88</td></tr>\n",
       "\t<tr><td>C</td><td>77</td></tr>\n",
       "</tbody>\n",
       "</table>\n"
      ],
      "text/latex": [
       "A tibble: 6 × 2\n",
       "\\begin{tabular}{ll}\n",
       " sekolah & nilai\\\\\n",
       " <chr> & <dbl>\\\\\n",
       "\\hline\n",
       "\t A & 78\\\\\n",
       "\t B & 82\\\\\n",
       "\t C & 75\\\\\n",
       "\t A & 85\\\\\n",
       "\t B & 88\\\\\n",
       "\t C & 77\\\\\n",
       "\\end{tabular}\n"
      ],
      "text/markdown": [
       "\n",
       "A tibble: 6 × 2\n",
       "\n",
       "| sekolah &lt;chr&gt; | nilai &lt;dbl&gt; |\n",
       "|---|---|\n",
       "| A | 78 |\n",
       "| B | 82 |\n",
       "| C | 75 |\n",
       "| A | 85 |\n",
       "| B | 88 |\n",
       "| C | 77 |\n",
       "\n"
      ],
      "text/plain": [
       "  sekolah nilai\n",
       "1 A       78   \n",
       "2 B       82   \n",
       "3 C       75   \n",
       "4 A       85   \n",
       "5 B       88   \n",
       "6 C       77   "
      ]
     },
     "metadata": {},
     "output_type": "display_data"
    },
    {
     "data": {
      "text/html": [
       "<table class=\"dataframe\">\n",
       "<caption>A tibble: 3 × 3</caption>\n",
       "<thead>\n",
       "\t<tr><th scope=col>sekolah</th><th scope=col>KS</th><th scope=col>SW</th></tr>\n",
       "\t<tr><th scope=col>&lt;chr&gt;</th><th scope=col>&lt;dbl&gt;</th><th scope=col>&lt;dbl&gt;</th></tr>\n",
       "</thead>\n",
       "<tbody>\n",
       "\t<tr><td>A</td><td>0.7468788</td><td>0.4210535</td></tr>\n",
       "\t<tr><td>B</td><td>0.5479888</td><td>0.4199970</td></tr>\n",
       "\t<tr><td>C</td><td>0.7017733</td><td>0.7277100</td></tr>\n",
       "</tbody>\n",
       "</table>\n"
      ],
      "text/latex": [
       "A tibble: 3 × 3\n",
       "\\begin{tabular}{lll}\n",
       " sekolah & KS & SW\\\\\n",
       " <chr> & <dbl> & <dbl>\\\\\n",
       "\\hline\n",
       "\t A & 0.7468788 & 0.4210535\\\\\n",
       "\t B & 0.5479888 & 0.4199970\\\\\n",
       "\t C & 0.7017733 & 0.7277100\\\\\n",
       "\\end{tabular}\n"
      ],
      "text/markdown": [
       "\n",
       "A tibble: 3 × 3\n",
       "\n",
       "| sekolah &lt;chr&gt; | KS &lt;dbl&gt; | SW &lt;dbl&gt; |\n",
       "|---|---|---|\n",
       "| A | 0.7468788 | 0.4210535 |\n",
       "| B | 0.5479888 | 0.4199970 |\n",
       "| C | 0.7017733 | 0.7277100 |\n",
       "\n"
      ],
      "text/plain": [
       "  sekolah KS        SW       \n",
       "1 A       0.7468788 0.4210535\n",
       "2 B       0.5479888 0.4199970\n",
       "3 C       0.7017733 0.7277100"
      ]
     },
     "metadata": {},
     "output_type": "display_data"
    },
    {
     "data": {
      "text/html": [
       "<table class=\"dataframe\">\n",
       "<caption>A tibble: 3 × 2</caption>\n",
       "<thead>\n",
       "\t<tr><th scope=col>sekolah</th><th scope=col>var</th></tr>\n",
       "\t<tr><th scope=col>&lt;chr&gt;</th><th scope=col>&lt;dbl&gt;</th></tr>\n",
       "</thead>\n",
       "<tbody>\n",
       "\t<tr><td>A</td><td>25.890323</td></tr>\n",
       "\t<tr><td>B</td><td> 7.978495</td></tr>\n",
       "\t<tr><td>C</td><td> 9.156989</td></tr>\n",
       "</tbody>\n",
       "</table>\n"
      ],
      "text/latex": [
       "A tibble: 3 × 2\n",
       "\\begin{tabular}{ll}\n",
       " sekolah & var\\\\\n",
       " <chr> & <dbl>\\\\\n",
       "\\hline\n",
       "\t A & 25.890323\\\\\n",
       "\t B &  7.978495\\\\\n",
       "\t C &  9.156989\\\\\n",
       "\\end{tabular}\n"
      ],
      "text/markdown": [
       "\n",
       "A tibble: 3 × 2\n",
       "\n",
       "| sekolah &lt;chr&gt; | var &lt;dbl&gt; |\n",
       "|---|---|\n",
       "| A | 25.890323 |\n",
       "| B |  7.978495 |\n",
       "| C |  9.156989 |\n",
       "\n"
      ],
      "text/plain": [
       "  sekolah var      \n",
       "1 A       25.890323\n",
       "2 B        7.978495\n",
       "3 C        9.156989"
      ]
     },
     "metadata": {},
     "output_type": "display_data"
    },
    {
     "data": {
      "text/html": [
       "3.24501347708895"
      ],
      "text/latex": [
       "3.24501347708895"
      ],
      "text/markdown": [
       "3.24501347708895"
      ],
      "text/plain": [
       "[1] 3.245013"
      ]
     },
     "metadata": {},
     "output_type": "display_data"
    },
    {
     "data": {
      "image/png": "[encoded data removed]"
     },
     "metadata": {
      "image/png": {
       "height": 420,
       "width": 420
      }
     },
     "output_type": "display_data"
    }
   ],
   "source": [
    "\n",
    "# to longer, df1\n",
    "df2L = pivot_longer(df2, cols=1:3, names_to=\"sekolah\", values_to=\"nilai\")\n",
    "head(df2L)\n",
    "\n",
    "# Uji Asumsi\n",
    "library(nortest) # lillie, KS test SPSS\n",
    "\n",
    "# boxplot: sedikit jurai atas, well, normal?, agak jurai bawah: cukup aman\n",
    "# sebarannya beda2\n",
    "boxplot(nilai~sekolah, df2L, col=\"white\", border=\"blue\")\n",
    "\n",
    "# \n",
    "df2L %>% group_by(sekolah) %>% summarise(KS = lillie.test(nilai)$p.value,\n",
    "                                         SW = shapiro.test(nilai)$p.value)\n",
    "\n",
    "# variansi, kagak aman\n",
    "v2 = df2L %>% group_by(sekolah) %>% summarise(var = var(nilai))\n",
    "v2; max(v2$var)/min(v2$var)"
   ]
  },
  {
   "cell_type": "markdown",
   "id": "52e80e64",
   "metadata": {
    "papermill": {
     "duration": 0.020596,
     "end_time": "2023-05-10T04:17:53.598202",
     "exception": false,
     "start_time": "2023-05-10T04:17:53.577606",
     "status": "completed"
    },
    "tags": []
   },
   "source": [
    "**Boxcox**\n",
    "1. `boxcoxfr()` -> untuk menormalisasi nilai berdasarkan angkatan, bisa untuk homogenitas juga, dengan parameter `option`\n",
    "1. `boxcoxnc()` -> untuk menormalisasi nilai secara keseluruhan\n",
    "1. `boxcox()`, dua-duanya\n",
    "    1. keseluruhan -> `boxcox(nilai~1, data)`\n",
    "    1. berdasarkan kelompok -> `boxcox(nilai~kelompok, data)`\n",
    "    1. biasanya, hasilnya mirip2 sih."
   ]
  },
  {
   "cell_type": "code",
   "execution_count": 18,
   "id": "7ea03038",
   "metadata": {
    "execution": {
     "iopub.execute_input": "2023-05-10T04:17:53.643334Z",
     "iopub.status.busy": "2023-05-10T04:17:53.641587Z",
     "iopub.status.idle": "2023-05-10T04:17:54.987281Z",
     "shell.execute_reply": "2023-05-10T04:17:54.985300Z"
    },
    "papermill": {
     "duration": 1.371895,
     "end_time": "2023-05-10T04:17:54.990583",
     "exception": false,
     "start_time": "2023-05-10T04:17:53.618688",
     "status": "completed"
    },
    "tags": []
   },
   "outputs": [
    {
     "name": "stdout",
     "output_type": "stream",
     "text": [
      "\n",
      "  Box-Cox power transformation \n",
      "--------------------------------------------------------------------- \n",
      "\n",
      "  lambda.hat : 0.89 \n",
      "\n",
      "\n",
      "  Shapiro-Wilk normality test for transformed data (alpha = 0.05)\n",
      "------------------------------------------------------------------- \n",
      "  Level statistic   p.value Normality\n",
      "1     A 0.9664165 0.4262298       YES\n",
      "2     B 0.9663037 0.4235096       YES\n",
      "3     C 0.9769316 0.7231322       YES\n",
      "\n",
      "\n",
      "  Bartlett's homogeneity test for transformed data (alpha = 0.05)\n",
      "------------------------------------------------------------------- \n",
      "  Level statistic     p.value Homogeneity\n",
      "1   All  13.14828 0.001396006          NO\n",
      "--------------------------------------------------------------------- \n",
      "\n"
     ]
    }
   ],
   "source": [
    "# Transformasi khusus ANOVA\n",
    "# Perlukah transformasi? AID::boxcoxfr\n",
    "boxcoxfr(df2L$nilai, df2L$sekolah, lambda=seq(-5,5,0.01), tau=0.0)\n"
   ]
  },
  {
   "cell_type": "code",
   "execution_count": 19,
   "id": "f301d80b",
   "metadata": {
    "execution": {
     "iopub.execute_input": "2023-05-10T04:17:55.035411Z",
     "iopub.status.busy": "2023-05-10T04:17:55.033755Z",
     "iopub.status.idle": "2023-05-10T04:17:55.059535Z",
     "shell.execute_reply": "2023-05-10T04:17:55.057236Z"
    },
    "papermill": {
     "duration": 0.051966,
     "end_time": "2023-05-10T04:17:55.062952",
     "exception": false,
     "start_time": "2023-05-10T04:17:55.010986",
     "status": "completed"
    },
    "tags": []
   },
   "outputs": [
    {
     "data": {
      "text/plain": [
       "            Df Sum Sq Mean Sq F value Pr(>F)    \n",
       "sekolah      2   2126  1062.9   74.11 <2e-16 ***\n",
       "Residuals   90   1291    14.3                   \n",
       "---\n",
       "Signif. codes:  0 ‘***’ 0.001 ‘**’ 0.01 ‘*’ 0.05 ‘.’ 0.1 ‘ ’ 1"
      ]
     },
     "metadata": {},
     "output_type": "display_data"
    }
   ],
   "source": [
    "# Uji Anova\n",
    "aov2 = aov(nilai~sekolah, data=df2L)\n",
    "\n",
    "# waw, signifikan\n",
    "summary(aov2)"
   ]
  },
  {
   "cell_type": "code",
   "execution_count": 20,
   "id": "65d98fca",
   "metadata": {
    "execution": {
     "iopub.execute_input": "2023-05-10T04:17:55.109152Z",
     "iopub.status.busy": "2023-05-10T04:17:55.107453Z",
     "iopub.status.idle": "2023-05-10T04:17:55.287162Z",
     "shell.execute_reply": "2023-05-10T04:17:55.285207Z"
    },
    "papermill": {
     "duration": 0.20509,
     "end_time": "2023-05-10T04:17:55.289756",
     "exception": false,
     "start_time": "2023-05-10T04:17:55.084666",
     "status": "completed"
    },
    "tags": []
   },
   "outputs": [
    {
     "data": {
      "text/plain": [
       "  Tukey multiple comparisons of means\n",
       "    95% family-wise confidence level\n",
       "\n",
       "Fit: aov(formula = nilai ~ sekolah, data = df2L)\n",
       "\n",
       "$sekolah\n",
       "          diff        lwr       upr p adj\n",
       "B-A   5.709677   3.417329  8.002025 2e-07\n",
       "C-A  -6.000000  -8.292348 -3.707652 0e+00\n",
       "C-B -11.709677 -14.002025 -9.417329 0e+00\n"
      ]
     },
     "metadata": {},
     "output_type": "display_data"
    },
    {
     "data": {
      "text/plain": [
       "\n",
       "\tPairwise comparisons using t tests with pooled SD \n",
       "\n",
       "data:  df2L$nilai and df2L$sekolah \n",
       "\n",
       "  A       B      \n",
       "B 1.6e-07 -      \n",
       "C 4.3e-08 < 2e-16\n",
       "\n",
       "P value adjustment method: bonferroni "
      ]
     },
     "metadata": {},
     "output_type": "display_data"
    },
    {
     "data": {
      "image/png": "[encoded data removed]"
     },
     "metadata": {
      "image/png": {
       "height": 420,
       "width": 420
      }
     },
     "output_type": "display_data"
    },
    {
     "data": {
      "image/png": "[encoded data removed]"
     },
     "metadata": {
      "image/png": {
       "height": 420,
       "width": 420
      }
     },
     "output_type": "display_data"
    }
   ],
   "source": [
    "# Extras, posthoc test\n",
    "# Viz\n",
    "library(gplots)\n",
    "plotmeans(nilai~sekolah, data=df2L)\n",
    "\n",
    "# mean nilai ketiga sekolah berbeda\n",
    "TukeyHSD(aov2)\n",
    "pairwise.t.test(df2L$nilai, df2L$sekolah, p.adjust=\"bonf\")\n",
    "\n",
    "# Plot THSD, semuanya, signifikan != 0\n",
    "plot(TukeyHSD(aov2))"
   ]
  },
  {
   "cell_type": "code",
   "execution_count": null,
   "id": "d6443639",
   "metadata": {
    "papermill": {
     "duration": 0.02363,
     "end_time": "2023-05-10T04:17:55.336300",
     "exception": false,
     "start_time": "2023-05-10T04:17:55.312670",
     "status": "completed"
    },
    "tags": []
   },
   "outputs": [],
   "source": []
  }
 ],
 "metadata": {
  "kernelspec": {
   "display_name": "R",
   "language": "R",
   "name": "ir"
  },
  "language_info": {
   "codemirror_mode": "r",
   "file_extension": ".r",
   "mimetype": "text/x-r-source",
   "name": "R",
   "pygments_lexer": "r",
   "version": "4.0.5"
  },
  "papermill": {
   "default_parameters": {},
   "duration": 16.362617,
   "end_time": "2023-05-10T04:17:55.481516",
   "environment_variables": {},
   "exception": null,
   "input_path": "__notebook__.ipynb",
   "output_path": "__notebook__.ipynb",
   "parameters": {},
   "start_time": "2023-05-10T04:17:39.118899",
   "version": "2.4.0"
  }
 },
 "nbformat": 4,
 "nbformat_minor": 5
}
